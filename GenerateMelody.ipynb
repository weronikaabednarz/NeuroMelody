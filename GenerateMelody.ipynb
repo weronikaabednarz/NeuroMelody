{
  "cells": [
    {
      "cell_type": "code",
      "execution_count": null,
      "metadata": {
        "colab": {
          "base_uri": "https://localhost:8080/"
        },
        "id": "VBQV8UfD6p0W",
        "outputId": "39f7b548-7bbe-4c48-89c0-e7e19c8754f0"
      },
      "outputs": [
        {
          "name": "stdout",
          "output_type": "stream",
          "text": [
            "Requirement already satisfied: music21 in /usr/local/lib/python3.10/dist-packages (9.3.0)\n",
            "Requirement already satisfied: chardet in /usr/local/lib/python3.10/dist-packages (from music21) (5.2.0)\n",
            "Requirement already satisfied: joblib in /usr/local/lib/python3.10/dist-packages (from music21) (1.4.2)\n",
            "Requirement already satisfied: jsonpickle in /usr/local/lib/python3.10/dist-packages (from music21) (4.0.1)\n",
            "Requirement already satisfied: matplotlib in /usr/local/lib/python3.10/dist-packages (from music21) (3.8.0)\n",
            "Requirement already satisfied: more-itertools in /usr/local/lib/python3.10/dist-packages (from music21) (10.5.0)\n",
            "Requirement already satisfied: numpy in /usr/local/lib/python3.10/dist-packages (from music21) (1.26.4)\n",
            "Requirement already satisfied: requests in /usr/local/lib/python3.10/dist-packages (from music21) (2.32.3)\n",
            "Requirement already satisfied: webcolors>=1.5 in /usr/local/lib/python3.10/dist-packages (from music21) (24.11.1)\n",
            "Requirement already satisfied: contourpy>=1.0.1 in /usr/local/lib/python3.10/dist-packages (from matplotlib->music21) (1.3.1)\n",
            "Requirement already satisfied: cycler>=0.10 in /usr/local/lib/python3.10/dist-packages (from matplotlib->music21) (0.12.1)\n",
            "Requirement already satisfied: fonttools>=4.22.0 in /usr/local/lib/python3.10/dist-packages (from matplotlib->music21) (4.55.3)\n",
            "Requirement already satisfied: kiwisolver>=1.0.1 in /usr/local/lib/python3.10/dist-packages (from matplotlib->music21) (1.4.7)\n",
            "Requirement already satisfied: packaging>=20.0 in /usr/local/lib/python3.10/dist-packages (from matplotlib->music21) (24.2)\n",
            "Requirement already satisfied: pillow>=6.2.0 in /usr/local/lib/python3.10/dist-packages (from matplotlib->music21) (11.0.0)\n",
            "Requirement already satisfied: pyparsing>=2.3.1 in /usr/local/lib/python3.10/dist-packages (from matplotlib->music21) (3.2.0)\n",
            "Requirement already satisfied: python-dateutil>=2.7 in /usr/local/lib/python3.10/dist-packages (from matplotlib->music21) (2.8.2)\n",
            "Requirement already satisfied: charset-normalizer<4,>=2 in /usr/local/lib/python3.10/dist-packages (from requests->music21) (3.4.0)\n",
            "Requirement already satisfied: idna<4,>=2.5 in /usr/local/lib/python3.10/dist-packages (from requests->music21) (3.10)\n",
            "Requirement already satisfied: urllib3<3,>=1.21.1 in /usr/local/lib/python3.10/dist-packages (from requests->music21) (2.2.3)\n",
            "Requirement already satisfied: certifi>=2017.4.17 in /usr/local/lib/python3.10/dist-packages (from requests->music21) (2024.12.14)\n",
            "Requirement already satisfied: six>=1.5 in /usr/local/lib/python3.10/dist-packages (from python-dateutil>=2.7->matplotlib->music21) (1.17.0)\n"
          ]
        }
      ],
      "source": [
        "!pip install music21                  # Biblioteka music21 jest narzędziem do analizy, przetwarzania i generowania muzyki w Pythonie."
      ]
    },
    {
      "cell_type": "code",
      "execution_count": null,
      "metadata": {
        "colab": {
          "base_uri": "https://localhost:8080/"
        },
        "id": "txY260DN63GX",
        "outputId": "24ee0a9b-fcf3-40e0-f469-fd88fcf18ba5"
      },
      "outputs": [
        {
          "name": "stdout",
          "output_type": "stream",
          "text": [
            "\r0% [Working]\r            \rHit:1 http://archive.ubuntu.com/ubuntu jammy InRelease\n",
            "\r0% [Waiting for headers] [Connected to cloud.r-project.org (3.171.85.66)] [Conn\r                                                                               \rGet:2 http://archive.ubuntu.com/ubuntu jammy-updates InRelease [128 kB]\n",
            "\r                                                                               \rGet:3 http://security.ubuntu.com/ubuntu jammy-security InRelease [129 kB]\n",
            "\r0% [2 InRelease 128 kB/128 kB 100%] [Connected to cloud.r-project.org (3.171.85\r0% [Waiting for headers] [Connected to cloud.r-project.org (3.171.85.66)] [Conn\r                                                                               \rGet:4 http://archive.ubuntu.com/ubuntu jammy-backports InRelease [127 kB]\n",
            "Get:5 https://cloud.r-project.org/bin/linux/ubuntu jammy-cran40/ InRelease [3,626 B]\n",
            "Hit:6 https://developer.download.nvidia.com/compute/cuda/repos/ubuntu2204/x86_64  InRelease\n",
            "Get:7 https://r2u.stat.illinois.edu/ubuntu jammy InRelease [6,555 B]\n",
            "Hit:8 https://ppa.launchpadcontent.net/deadsnakes/ppa/ubuntu jammy InRelease\n",
            "Hit:9 https://ppa.launchpadcontent.net/graphics-drivers/ppa/ubuntu jammy InRelease\n",
            "Hit:10 https://ppa.launchpadcontent.net/ubuntugis/ppa/ubuntu jammy InRelease\n",
            "Get:11 http://security.ubuntu.com/ubuntu jammy-security/restricted amd64 Packages [3,448 kB]\n",
            "Get:12 http://security.ubuntu.com/ubuntu jammy-security/universe amd64 Packages [1,226 kB]\n",
            "Get:13 http://security.ubuntu.com/ubuntu jammy-security/main amd64 Packages [2,517 kB]\n",
            "Get:14 http://archive.ubuntu.com/ubuntu jammy-updates/main amd64 Packages [2,840 kB]\n",
            "Get:15 http://archive.ubuntu.com/ubuntu jammy-updates/universe amd64 Packages [1,517 kB]\n",
            "Get:16 http://archive.ubuntu.com/ubuntu jammy-updates/restricted amd64 Packages [3,633 kB]\n",
            "Get:17 http://archive.ubuntu.com/ubuntu jammy-backports/universe amd64 Packages [33.8 kB]\n",
            "Get:18 http://archive.ubuntu.com/ubuntu jammy-backports/main amd64 Packages [81.4 kB]\n",
            "Get:19 https://r2u.stat.illinois.edu/ubuntu jammy/main all Packages [8,563 kB]\n",
            "Get:20 https://r2u.stat.illinois.edu/ubuntu jammy/main amd64 Packages [2,631 kB]\n",
            "Fetched 26.9 MB in 6s (4,596 kB/s)\n",
            "Reading package lists... Done\n",
            "W: Skipping acquire of configured file 'main/source/Sources' as repository 'https://r2u.stat.illinois.edu/ubuntu jammy InRelease' does not seem to provide it (sources.list entry misspelt?)\n"
          ]
        }
      ],
      "source": [
        "!sudo apt-get update"
      ]
    },
    {
      "cell_type": "code",
      "execution_count": null,
      "metadata": {
        "colab": {
          "base_uri": "https://localhost:8080/"
        },
        "id": "rKPl2Jns6461",
        "outputId": "79143236-0289-4e13-dd01-5f93cb31254d"
      },
      "outputs": [
        {
          "name": "stdout",
          "output_type": "stream",
          "text": [
            "Reading package lists... Done\n",
            "Building dependency tree... Done\n",
            "Reading state information... Done\n",
            "The following additional packages will be installed:\n",
            "  dvisvgm fonts-droid-fallback fonts-lmodern fonts-noto-mono fonts-urw-base35 ghostscript\n",
            "  libfontenc1 libgs9 libgs9-common libidn12 libijs-0.35 libjbig2dec0 libkpathsea6 libptexenc1\n",
            "  libsynctex2 libteckit0 libtexlua53 libtexluajit2 libwoff1 libzzip-0-13 lilypond-data\n",
            "  lilypond-fonts lmodern poppler-data t1utils tex-common texlive-base texlive-binaries\n",
            "  texlive-latex-base xfonts-encodings xfonts-utils\n",
            "Suggested packages:\n",
            "  fonts-noto fonts-freefont-otf | fonts-freefont-ttf fonts-texgyre ghostscript-x lilypond-doc\n",
            "  python3-lxml poppler-utils fonts-japanese-mincho | fonts-ipafont-mincho fonts-japanese-gothic\n",
            "  | fonts-ipafont-gothic fonts-arphic-ukai fonts-arphic-uming fonts-nanum debhelper perl-tk xpdf\n",
            "  | pdf-viewer xzdec texlive-latex-base-doc\n",
            "The following NEW packages will be installed:\n",
            "  dvisvgm fonts-droid-fallback fonts-lmodern fonts-noto-mono fonts-urw-base35 ghostscript\n",
            "  libfontenc1 libgs9 libgs9-common libidn12 libijs-0.35 libjbig2dec0 libkpathsea6 libptexenc1\n",
            "  libsynctex2 libteckit0 libtexlua53 libtexluajit2 libwoff1 libzzip-0-13 lilypond lilypond-data\n",
            "  lilypond-fonts lmodern poppler-data t1utils tex-common texlive-base texlive-binaries\n",
            "  texlive-latex-base xfonts-encodings xfonts-utils\n",
            "0 upgraded, 32 newly installed, 0 to remove and 50 not upgraded.\n",
            "Need to get 70.9 MB of archives.\n",
            "After this operation, 242 MB of additional disk space will be used.\n",
            "Get:1 http://archive.ubuntu.com/ubuntu jammy/main amd64 fonts-droid-fallback all 1:6.0.1r16-1.1build1 [1,805 kB]\n",
            "Get:2 http://archive.ubuntu.com/ubuntu jammy/main amd64 poppler-data all 0.4.11-1 [2,171 kB]\n",
            "Get:3 http://archive.ubuntu.com/ubuntu jammy/universe amd64 tex-common all 6.17 [33.7 kB]\n",
            "Get:4 http://archive.ubuntu.com/ubuntu jammy/main amd64 fonts-urw-base35 all 20200910-1 [6,367 kB]\n",
            "Get:5 http://archive.ubuntu.com/ubuntu jammy-updates/main amd64 libgs9-common all 9.55.0~dfsg1-0ubuntu5.10 [752 kB]\n",
            "Get:6 http://archive.ubuntu.com/ubuntu jammy-updates/main amd64 libidn12 amd64 1.38-4ubuntu1 [60.0 kB]\n",
            "Get:7 http://archive.ubuntu.com/ubuntu jammy/main amd64 libijs-0.35 amd64 0.35-15build2 [16.5 kB]\n",
            "Get:8 http://archive.ubuntu.com/ubuntu jammy/main amd64 libjbig2dec0 amd64 0.19-3build2 [64.7 kB]\n",
            "Get:9 http://archive.ubuntu.com/ubuntu jammy-updates/main amd64 libgs9 amd64 9.55.0~dfsg1-0ubuntu5.10 [5,031 kB]\n",
            "Get:10 http://archive.ubuntu.com/ubuntu jammy-updates/main amd64 libkpathsea6 amd64 2021.20210626.59705-1ubuntu0.2 [60.4 kB]\n",
            "Get:11 http://archive.ubuntu.com/ubuntu jammy/main amd64 libwoff1 amd64 1.0.2-1build4 [45.2 kB]\n",
            "Get:12 http://archive.ubuntu.com/ubuntu jammy/universe amd64 dvisvgm amd64 2.13.1-1 [1,221 kB]\n",
            "Get:13 http://archive.ubuntu.com/ubuntu jammy/universe amd64 fonts-lmodern all 2.004.5-6.1 [4,532 kB]\n",
            "Get:14 http://archive.ubuntu.com/ubuntu jammy/main amd64 fonts-noto-mono all 20201225-1build1 [397 kB]\n",
            "Get:15 http://archive.ubuntu.com/ubuntu jammy-updates/main amd64 ghostscript amd64 9.55.0~dfsg1-0ubuntu5.10 [49.4 kB]\n",
            "Get:16 http://archive.ubuntu.com/ubuntu jammy/main amd64 libfontenc1 amd64 1:1.1.4-1build3 [14.7 kB]\n",
            "Get:17 http://archive.ubuntu.com/ubuntu jammy-updates/main amd64 libptexenc1 amd64 2021.20210626.59705-1ubuntu0.2 [39.1 kB]\n",
            "Get:18 http://archive.ubuntu.com/ubuntu jammy-updates/main amd64 libsynctex2 amd64 2021.20210626.59705-1ubuntu0.2 [55.6 kB]\n",
            "Get:19 http://archive.ubuntu.com/ubuntu jammy/universe amd64 libteckit0 amd64 2.5.11+ds1-1 [421 kB]\n",
            "Get:20 http://archive.ubuntu.com/ubuntu jammy-updates/main amd64 libtexlua53 amd64 2021.20210626.59705-1ubuntu0.2 [120 kB]\n",
            "Get:21 http://archive.ubuntu.com/ubuntu jammy-updates/main amd64 libtexluajit2 amd64 2021.20210626.59705-1ubuntu0.2 [267 kB]\n",
            "Get:22 http://archive.ubuntu.com/ubuntu jammy/universe amd64 libzzip-0-13 amd64 0.13.72+dfsg.1-1.1 [27.0 kB]\n",
            "Get:23 http://archive.ubuntu.com/ubuntu jammy/universe amd64 lilypond-fonts all 2.22.1-2 [2,296 kB]\n",
            "Get:24 http://archive.ubuntu.com/ubuntu jammy/universe amd64 lilypond-data all 2.22.1-2 [818 kB]\n",
            "Get:25 http://archive.ubuntu.com/ubuntu jammy/universe amd64 lilypond amd64 2.22.1-2 [2,046 kB]\n",
            "Get:26 http://archive.ubuntu.com/ubuntu jammy/main amd64 xfonts-encodings all 1:1.0.5-0ubuntu2 [578 kB]\n",
            "Get:27 http://archive.ubuntu.com/ubuntu jammy/main amd64 xfonts-utils amd64 1:7.7+6build2 [94.6 kB]\n",
            "Get:28 http://archive.ubuntu.com/ubuntu jammy/universe amd64 lmodern all 2.004.5-6.1 [9,471 kB]\n",
            "Get:29 http://archive.ubuntu.com/ubuntu jammy/main amd64 t1utils amd64 1.41-4build2 [61.3 kB]\n",
            "Get:30 http://archive.ubuntu.com/ubuntu jammy-updates/universe amd64 texlive-binaries amd64 2021.20210626.59705-1ubuntu0.2 [9,860 kB]\n",
            "Get:31 http://archive.ubuntu.com/ubuntu jammy/universe amd64 texlive-base all 2021.20220204-1 [21.0 MB]\n",
            "Get:32 http://archive.ubuntu.com/ubuntu jammy/universe amd64 texlive-latex-base all 2021.20220204-1 [1,128 kB]\n",
            "Fetched 70.9 MB in 2s (32.2 MB/s)\n",
            "Extracting templates from packages: 100%\n",
            "Preconfiguring packages ...\n",
            "Selecting previously unselected package fonts-droid-fallback.\n",
            "(Reading database ... 123634 files and directories currently installed.)\n",
            "Preparing to unpack .../00-fonts-droid-fallback_1%3a6.0.1r16-1.1build1_all.deb ...\n",
            "Unpacking fonts-droid-fallback (1:6.0.1r16-1.1build1) ...\n",
            "Selecting previously unselected package poppler-data.\n",
            "Preparing to unpack .../01-poppler-data_0.4.11-1_all.deb ...\n",
            "Unpacking poppler-data (0.4.11-1) ...\n",
            "Selecting previously unselected package tex-common.\n",
            "Preparing to unpack .../02-tex-common_6.17_all.deb ...\n",
            "Unpacking tex-common (6.17) ...\n",
            "Selecting previously unselected package fonts-urw-base35.\n",
            "Preparing to unpack .../03-fonts-urw-base35_20200910-1_all.deb ...\n",
            "Unpacking fonts-urw-base35 (20200910-1) ...\n",
            "Selecting previously unselected package libgs9-common.\n",
            "Preparing to unpack .../04-libgs9-common_9.55.0~dfsg1-0ubuntu5.10_all.deb ...\n",
            "Unpacking libgs9-common (9.55.0~dfsg1-0ubuntu5.10) ...\n",
            "Selecting previously unselected package libidn12:amd64.\n",
            "Preparing to unpack .../05-libidn12_1.38-4ubuntu1_amd64.deb ...\n",
            "Unpacking libidn12:amd64 (1.38-4ubuntu1) ...\n",
            "Selecting previously unselected package libijs-0.35:amd64.\n",
            "Preparing to unpack .../06-libijs-0.35_0.35-15build2_amd64.deb ...\n",
            "Unpacking libijs-0.35:amd64 (0.35-15build2) ...\n",
            "Selecting previously unselected package libjbig2dec0:amd64.\n",
            "Preparing to unpack .../07-libjbig2dec0_0.19-3build2_amd64.deb ...\n",
            "Unpacking libjbig2dec0:amd64 (0.19-3build2) ...\n",
            "Selecting previously unselected package libgs9:amd64.\n",
            "Preparing to unpack .../08-libgs9_9.55.0~dfsg1-0ubuntu5.10_amd64.deb ...\n",
            "Unpacking libgs9:amd64 (9.55.0~dfsg1-0ubuntu5.10) ...\n",
            "Selecting previously unselected package libkpathsea6:amd64.\n",
            "Preparing to unpack .../09-libkpathsea6_2021.20210626.59705-1ubuntu0.2_amd64.deb ...\n",
            "Unpacking libkpathsea6:amd64 (2021.20210626.59705-1ubuntu0.2) ...\n",
            "Selecting previously unselected package libwoff1:amd64.\n",
            "Preparing to unpack .../10-libwoff1_1.0.2-1build4_amd64.deb ...\n",
            "Unpacking libwoff1:amd64 (1.0.2-1build4) ...\n",
            "Selecting previously unselected package dvisvgm.\n",
            "Preparing to unpack .../11-dvisvgm_2.13.1-1_amd64.deb ...\n",
            "Unpacking dvisvgm (2.13.1-1) ...\n",
            "Selecting previously unselected package fonts-lmodern.\n",
            "Preparing to unpack .../12-fonts-lmodern_2.004.5-6.1_all.deb ...\n",
            "Unpacking fonts-lmodern (2.004.5-6.1) ...\n",
            "Selecting previously unselected package fonts-noto-mono.\n",
            "Preparing to unpack .../13-fonts-noto-mono_20201225-1build1_all.deb ...\n",
            "Unpacking fonts-noto-mono (20201225-1build1) ...\n",
            "Selecting previously unselected package ghostscript.\n",
            "Preparing to unpack .../14-ghostscript_9.55.0~dfsg1-0ubuntu5.10_amd64.deb ...\n",
            "Unpacking ghostscript (9.55.0~dfsg1-0ubuntu5.10) ...\n",
            "Selecting previously unselected package libfontenc1:amd64.\n",
            "Preparing to unpack .../15-libfontenc1_1%3a1.1.4-1build3_amd64.deb ...\n",
            "Unpacking libfontenc1:amd64 (1:1.1.4-1build3) ...\n",
            "Selecting previously unselected package libptexenc1:amd64.\n",
            "Preparing to unpack .../16-libptexenc1_2021.20210626.59705-1ubuntu0.2_amd64.deb ...\n",
            "Unpacking libptexenc1:amd64 (2021.20210626.59705-1ubuntu0.2) ...\n",
            "Selecting previously unselected package libsynctex2:amd64.\n",
            "Preparing to unpack .../17-libsynctex2_2021.20210626.59705-1ubuntu0.2_amd64.deb ...\n",
            "Unpacking libsynctex2:amd64 (2021.20210626.59705-1ubuntu0.2) ...\n",
            "Selecting previously unselected package libteckit0:amd64.\n",
            "Preparing to unpack .../18-libteckit0_2.5.11+ds1-1_amd64.deb ...\n",
            "Unpacking libteckit0:amd64 (2.5.11+ds1-1) ...\n",
            "Selecting previously unselected package libtexlua53:amd64.\n",
            "Preparing to unpack .../19-libtexlua53_2021.20210626.59705-1ubuntu0.2_amd64.deb ...\n",
            "Unpacking libtexlua53:amd64 (2021.20210626.59705-1ubuntu0.2) ...\n",
            "Selecting previously unselected package libtexluajit2:amd64.\n",
            "Preparing to unpack .../20-libtexluajit2_2021.20210626.59705-1ubuntu0.2_amd64.deb ...\n",
            "Unpacking libtexluajit2:amd64 (2021.20210626.59705-1ubuntu0.2) ...\n",
            "Selecting previously unselected package libzzip-0-13:amd64.\n",
            "Preparing to unpack .../21-libzzip-0-13_0.13.72+dfsg.1-1.1_amd64.deb ...\n",
            "Unpacking libzzip-0-13:amd64 (0.13.72+dfsg.1-1.1) ...\n",
            "Selecting previously unselected package lilypond-fonts.\n",
            "Preparing to unpack .../22-lilypond-fonts_2.22.1-2_all.deb ...\n",
            "Unpacking lilypond-fonts (2.22.1-2) ...\n",
            "Selecting previously unselected package lilypond-data.\n",
            "Preparing to unpack .../23-lilypond-data_2.22.1-2_all.deb ...\n",
            "Unpacking lilypond-data (2.22.1-2) ...\n",
            "Selecting previously unselected package lilypond.\n",
            "Preparing to unpack .../24-lilypond_2.22.1-2_amd64.deb ...\n",
            "Unpacking lilypond (2.22.1-2) ...\n",
            "Selecting previously unselected package xfonts-encodings.\n",
            "Preparing to unpack .../25-xfonts-encodings_1%3a1.0.5-0ubuntu2_all.deb ...\n",
            "Unpacking xfonts-encodings (1:1.0.5-0ubuntu2) ...\n",
            "Selecting previously unselected package xfonts-utils.\n",
            "Preparing to unpack .../26-xfonts-utils_1%3a7.7+6build2_amd64.deb ...\n",
            "Unpacking xfonts-utils (1:7.7+6build2) ...\n",
            "Selecting previously unselected package lmodern.\n",
            "Preparing to unpack .../27-lmodern_2.004.5-6.1_all.deb ...\n",
            "Unpacking lmodern (2.004.5-6.1) ...\n",
            "Selecting previously unselected package t1utils.\n",
            "Preparing to unpack .../28-t1utils_1.41-4build2_amd64.deb ...\n",
            "Unpacking t1utils (1.41-4build2) ...\n",
            "Selecting previously unselected package texlive-binaries.\n",
            "Preparing to unpack .../29-texlive-binaries_2021.20210626.59705-1ubuntu0.2_amd64.deb ...\n",
            "Unpacking texlive-binaries (2021.20210626.59705-1ubuntu0.2) ...\n",
            "Selecting previously unselected package texlive-base.\n",
            "Preparing to unpack .../30-texlive-base_2021.20220204-1_all.deb ...\n",
            "Unpacking texlive-base (2021.20220204-1) ...\n",
            "Selecting previously unselected package texlive-latex-base.\n",
            "Preparing to unpack .../31-texlive-latex-base_2021.20220204-1_all.deb ...\n",
            "Unpacking texlive-latex-base (2021.20220204-1) ...\n",
            "Setting up fonts-noto-mono (20201225-1build1) ...\n",
            "Setting up libwoff1:amd64 (1.0.2-1build4) ...\n",
            "Setting up libtexlua53:amd64 (2021.20210626.59705-1ubuntu0.2) ...\n",
            "Setting up libijs-0.35:amd64 (0.35-15build2) ...\n",
            "Setting up libtexluajit2:amd64 (2021.20210626.59705-1ubuntu0.2) ...\n",
            "Setting up libzzip-0-13:amd64 (0.13.72+dfsg.1-1.1) ...\n",
            "Setting up fonts-urw-base35 (20200910-1) ...\n",
            "Setting up poppler-data (0.4.11-1) ...\n",
            "Setting up tex-common (6.17) ...\n",
            "update-language: texlive-base not installed and configured, doing nothing!\n",
            "Setting up libfontenc1:amd64 (1:1.1.4-1build3) ...\n",
            "Setting up libjbig2dec0:amd64 (0.19-3build2) ...\n",
            "Setting up libteckit0:amd64 (2.5.11+ds1-1) ...\n",
            "Setting up xfonts-encodings (1:1.0.5-0ubuntu2) ...\n",
            "Setting up t1utils (1.41-4build2) ...\n",
            "Setting up libidn12:amd64 (1.38-4ubuntu1) ...\n",
            "Setting up lilypond-fonts (2.22.1-2) ...\n",
            "Setting up libkpathsea6:amd64 (2021.20210626.59705-1ubuntu0.2) ...\n",
            "Setting up fonts-lmodern (2.004.5-6.1) ...\n",
            "Setting up fonts-droid-fallback (1:6.0.1r16-1.1build1) ...\n",
            "Setting up libsynctex2:amd64 (2021.20210626.59705-1ubuntu0.2) ...\n",
            "Setting up libgs9-common (9.55.0~dfsg1-0ubuntu5.10) ...\n",
            "Setting up libgs9:amd64 (9.55.0~dfsg1-0ubuntu5.10) ...\n",
            "Setting up lilypond-data (2.22.1-2) ...\n",
            "Setting up dvisvgm (2.13.1-1) ...\n",
            "Setting up ghostscript (9.55.0~dfsg1-0ubuntu5.10) ...\n",
            "Setting up xfonts-utils (1:7.7+6build2) ...\n",
            "Setting up libptexenc1:amd64 (2021.20210626.59705-1ubuntu0.2) ...\n",
            "Setting up lilypond (2.22.1-2) ...\n",
            "Setting up texlive-binaries (2021.20210626.59705-1ubuntu0.2) ...\n",
            "update-alternatives: using /usr/bin/xdvi-xaw to provide /usr/bin/xdvi.bin (xdvi.bin) in auto mode\n",
            "update-alternatives: using /usr/bin/bibtex.original to provide /usr/bin/bibtex (bibtex) in auto mode\n",
            "Setting up lmodern (2.004.5-6.1) ...\n",
            "Setting up texlive-base (2021.20220204-1) ...\n",
            "/usr/bin/ucfr\n",
            "/usr/bin/ucfr\n",
            "/usr/bin/ucfr\n",
            "/usr/bin/ucfr\n",
            "mktexlsr: Updating /var/lib/texmf/ls-R-TEXLIVEDIST... \n",
            "mktexlsr: Updating /var/lib/texmf/ls-R-TEXMFMAIN... \n",
            "mktexlsr: Updating /var/lib/texmf/ls-R... \n",
            "mktexlsr: Done.\n",
            "tl-paper: setting paper size for dvips to a4: /var/lib/texmf/dvips/config/config-paper.ps\n",
            "tl-paper: setting paper size for dvipdfmx to a4: /var/lib/texmf/dvipdfmx/dvipdfmx-paper.cfg\n",
            "tl-paper: setting paper size for xdvi to a4: /var/lib/texmf/xdvi/XDvi-paper\n",
            "tl-paper: setting paper size for pdftex to a4: /var/lib/texmf/tex/generic/tex-ini-files/pdftexconfig.tex\n",
            "Setting up texlive-latex-base (2021.20220204-1) ...\n",
            "Processing triggers for libc-bin (2.35-0ubuntu3.4) ...\n",
            "/sbin/ldconfig.real: /usr/local/lib/libtcm_debug.so.1 is not a symbolic link\n",
            "\n",
            "/sbin/ldconfig.real: /usr/local/lib/libur_loader.so.0 is not a symbolic link\n",
            "\n",
            "/sbin/ldconfig.real: /usr/local/lib/libhwloc.so.15 is not a symbolic link\n",
            "\n",
            "/sbin/ldconfig.real: /usr/local/lib/libumf.so.0 is not a symbolic link\n",
            "\n",
            "/sbin/ldconfig.real: /usr/local/lib/libtbbmalloc_proxy.so.2 is not a symbolic link\n",
            "\n",
            "/sbin/ldconfig.real: /usr/local/lib/libtbbbind_2_0.so.3 is not a symbolic link\n",
            "\n",
            "/sbin/ldconfig.real: /usr/local/lib/libtbbbind.so.3 is not a symbolic link\n",
            "\n",
            "/sbin/ldconfig.real: /usr/local/lib/libtbbmalloc.so.2 is not a symbolic link\n",
            "\n",
            "/sbin/ldconfig.real: /usr/local/lib/libtbb.so.12 is not a symbolic link\n",
            "\n",
            "/sbin/ldconfig.real: /usr/local/lib/libtbbbind_2_5.so.3 is not a symbolic link\n",
            "\n",
            "/sbin/ldconfig.real: /usr/local/lib/libtcm.so.1 is not a symbolic link\n",
            "\n",
            "/sbin/ldconfig.real: /usr/local/lib/libur_adapter_level_zero.so.0 is not a symbolic link\n",
            "\n",
            "/sbin/ldconfig.real: /usr/local/lib/libur_adapter_opencl.so.0 is not a symbolic link\n",
            "\n",
            "Processing triggers for man-db (2.10.2-1) ...\n",
            "Processing triggers for fontconfig (2.13.1-4.2ubuntu5) ...\n",
            "Processing triggers for tex-common (6.17) ...\n",
            "Running updmap-sys. This may take some time... done.\n",
            "Running mktexlsr /var/lib/texmf ... done.\n",
            "Building format(s) --all.\n",
            "\tThis may take some time... done.\n"
          ]
        }
      ],
      "source": [
        "!apt-get install -y lilypond          # LilyPond to oprogramowanie do komputerowego składu nut, które umożliwia tworzenie profesjonalnie wyglądających partytur muzycznych."
      ]
    },
    {
      "cell_type": "markdown",
      "metadata": {
        "id": "xbOdXLBL7APG"
      },
      "source": [
        "**Biblioteki**"
      ]
    },
    {
      "cell_type": "code",
      "execution_count": null,
      "metadata": {
        "id": "XWKDG5C4xPA0"
      },
      "outputs": [],
      "source": [
        "import os  # Moduł os do interakcji z systemem operacyjnym, np. do pracy z plikami i katalogami.\n",
        "import zipfile  # Pozwala na otwieranie, tworzenie i rozpakowywanie plików ZIP.\n",
        "import glob  # Używany do znajdowania plików w systemie za pomocą wzorców, np. *.txt, *.mid.\n",
        "\n",
        "# Biblioteki do obróbki danych i analizy statystycznej\n",
        "\n",
        "from collections import Counter  # Do liczenia wystąpień elementów w zbiorach.\n",
        "import pandas as pd  # Do pracy z danymi w formie tabel, DataFrame.\n",
        "import numpy as np  # Do operacji na tablicach i macierzach numerycznych.\n",
        "import time  # Do mierzenia czasu wykonywania kodu.\n",
        "from math import exp  # Do obliczeń matematycznych, np. przy obliczaniu perplexity.\n",
        "\n",
        "# Biblioteki do wizualizacji\n",
        "import matplotlib.pyplot as plt  # Do tworzenia wykresów.\n",
        "import seaborn as sns  # Do tworzenia zaawansowanych wykresów opartych na matplotlib.\n",
        "from IPython.display import display, Image, Audio  # Do wyświetlania obrazów i odtwarzania dźwięku w Jupyter Notebook.\n",
        "\n",
        "# Biblioteki związane z muzyką i formatami muzycznymi\n",
        "from music21 import converter, instrument, note, chord, stream  # Główne elementy z music21 do pracy z muzyką.\n",
        "# from music21 import *  # Importuje dodatkowe elementy związane z biblioteką music21, potrzebne do pracy z nutami i akordami.\n",
        "\n",
        "# Biblioteki do uczenia maszynowego i modelowania\n",
        "import tensorflow as tf\n",
        "from tensorflow.keras.utils import to_categorical  # Do konwersji etykiet na one-hot encoding.\n",
        "from tensorflow.keras.models import Sequential  # Do tworzenia modeli Keras.\n",
        "from tensorflow.keras.layers import Input, LSTM, Dense, Dropout  # Warstwy do budowy sieci neuronowej.\n",
        "from tensorflow.keras.optimizers import Adamax  # Optymalizator do treningu modelu.\n",
        "from sklearn.model_selection import train_test_split  # Do podziału danych na zbiory treningowy i testowy.\n",
        "from sklearn.metrics import accuracy_score, precision_score, recall_score, f1_score  # Do oceny jakości modelu.\n",
        "\n",
        "# Google Colab\n",
        "from google.colab import drive  # Do montowania Dysku Google w Google Colab.\n",
        "\n",
        "import warnings"
      ]
    },
    {
      "cell_type": "markdown",
      "metadata": {
        "id": "BqRdC8mD7DA5"
      },
      "source": [
        "**Załadowanie danych**"
      ]
    },
    {
      "cell_type": "code",
      "execution_count": null,
      "metadata": {
        "colab": {
          "base_uri": "https://localhost:8080/"
        },
        "id": "4uf7lrjx7GF9",
        "outputId": "f1f44281-825f-4ec1-fb0b-b1c5bd1ac8c4"
      },
      "outputs": [
        {
          "name": "stdout",
          "output_type": "stream",
          "text": [
            "Mounted at /content/drive\n"
          ]
        }
      ],
      "source": [
        "drive.mount('/content/drive')           # Funkcja mount() zamontowuje Dysk Google do określonej ścieżki w systemie plików Colab, w tym przypadku /content/drive."
      ]
    },
    {
      "cell_type": "code",
      "execution_count": null,
      "metadata": {
        "id": "hCvKBwDL7IkL"
      },
      "outputs": [],
      "source": [
        "zip_file_path = '/content/drive/My Drive/music.zip'     # Ustala, gdzie na Dysku Google znajduje się plik ZIP z muzyką, żeby później go użyć.\n",
        "extract_dir = '/content/drive/My Drive/music'           # Określa, do jakiego folderu mają zostać wypakowane pliki z tego ZIP-a."
      ]
    },
    {
      "cell_type": "code",
      "execution_count": null,
      "metadata": {
        "id": "kD5itG9B7I6Z"
      },
      "outputs": [],
      "source": [
        "os.makedirs(extract_dir, exist_ok=True)                 # Tworzy folder, w którym pliki ZIP zostaną rozpakowane, jeśli ten folder jeszcze nie istnieje.\n",
        "\n",
        "with zipfile.ZipFile(zip_file_path, 'r') as zip_ref:    # Otwiera plik ZIP do odczytu i nadaje mu nazwę zip_ref na czas pracy z tym plikiem.\n",
        "    zip_ref.extractall(extract_dir)                     # Rozpakowuje wszystkie pliki z ZIP-a do wcześniej utworzonego folderu."
      ]
    },
    {
      "cell_type": "code",
      "execution_count": null,
      "metadata": {
        "id": "hjHGcW1C7L7i"
      },
      "outputs": [],
      "source": [
        "file_path = extract_dir + \"/music/chopin/\"                    # Służy do stworzenia ścieżki do konkretnego folderu lub pliku wewnątrz wcześniej rozpakowanego katalogu."
      ]
    },
    {
      "cell_type": "code",
      "execution_count": null,
      "metadata": {
        "colab": {
          "base_uri": "https://localhost:8080/"
        },
        "id": "3YW59R37Ys9r",
        "outputId": "5d278e1a-6ba3-4f0e-9a15-185d33da6244"
      },
      "outputs": [
        {
          "name": "stdout",
          "output_type": "stream",
          "text": [
            "/content/drive/My Drive/music\n"
          ]
        }
      ],
      "source": [
        "print(os.path.abspath(extract_dir))"
      ]
    },
    {
      "cell_type": "code",
      "execution_count": null,
      "metadata": {
        "id": "agX6bybY8pSS"
      },
      "outputs": [],
      "source": [
        "warnings.filterwarnings(\"ignore\")\n",
        "warnings.simplefilter(\"ignore\")"
      ]
    },
    {
      "cell_type": "code",
      "execution_count": null,
      "metadata": {
        "colab": {
          "base_uri": "https://localhost:8080/"
        },
        "id": "TgzcJ-3J7n01",
        "outputId": "d920912b-bc85-4bda-fb32-9273ccab2140"
      },
      "outputs": [
        {
          "name": "stdout",
          "output_type": "stream",
          "text": [
            "Handled 48 MIDI format files.\n"
          ]
        }
      ],
      "source": [
        "midi_files = []                                         # Stworzenie listy do przechowywania plików MIDI.\n",
        "\n",
        "for midi_path in glob.glob(os.path.join(file_path, '*.mid')):   # Szuka wszystkich plików MIDI w danym folderze.\n",
        "    midi_score = converter.parse(midi_path)                     # Otwiera każdy znaleziony plik MIDI i przekształca jego zawartość na obiekt Stream lub Score z biblioteki music21,\n",
        "                                                                # który zawiera wszystkie nuty, akordy i inne informacje muzyczne z pliku, które można łatwo analizować.\n",
        "    midi_files.append(midi_score)                               # Dodaje otwarty plik MIDI do listy, żeby mieć je wszystkie w jednym miejscu.\n",
        "\n",
        "print(f\"Handled {len(midi_files)} MIDI format files.\")"
      ]
    },
    {
      "cell_type": "code",
      "execution_count": null,
      "metadata": {
        "colab": {
          "base_uri": "https://localhost:8080/"
        },
        "id": "m3qaHygY9tps",
        "outputId": "948f7cb7-3af9-4c83-c5f9-2200f0108712"
      },
      "outputs": [
        {
          "name": "stdout",
          "output_type": "stream",
          "text": [
            "Liczba dźwięków zawartych w plikach MIDI w zbiorze: 57894\n"
          ]
        }
      ],
      "source": [
        "def gather_pitches(files):\n",
        "    pitch_collection = []\n",
        "\n",
        "    for midi_file in files:\n",
        "        # Podział na instrumenty, jak w kodzie 1\n",
        "        instrument_parts = instrument.partitionByInstrument(midi_file)\n",
        "\n",
        "        # Iteracja przez każdą partię\n",
        "        for part in instrument_parts.parts:\n",
        "            for element in part.recurse():  # Rekurencja przez wszystkie elementy\n",
        "                if isinstance(element, note.Note):\n",
        "                    pitch_collection.append(str(element.pitch))  # Nuty jako nazwy dźwięków\n",
        "                elif isinstance(element, chord.Chord):\n",
        "                    pitch_collection.append(\".\".join(str(n) for n in element.normalOrder))  # Akordy jako numeryczna reprezentacja\n",
        "\n",
        "    return pitch_collection\n",
        "\n",
        "# Wyodrębnienie wszystkich nut z listy plików MIDI\n",
        "pitches_dataset = gather_pitches(midi_files)\n",
        "print(f\"Liczba dźwięków zawartych w plikach MIDI w zbiorze: {len(pitches_dataset)}\")"
      ]
    },
    {
      "cell_type": "code",
      "execution_count": null,
      "metadata": {
        "colab": {
          "base_uri": "https://localhost:8080/"
        },
        "id": "njarcbk-_3YJ",
        "outputId": "846a9e76-1eec-4079-b9b3-199fa2671af8"
      },
      "outputs": [
        {
          "name": "stdout",
          "output_type": "stream",
          "text": [
            "First fifty values in the Corpus: ['7.0', 'G3', '0.4', 'E3', '0.4.7', 'A4', '9.11', 'A4', 'G3', '5.7', '2.5', '2.5.7', 'A4', '9.0', 'A4', 'G3', '4.7', '0.4', '0.4.7', 'A4', '4.9', 'A4', 'B3', '4.7', '4.7', '4.7.11', 'C5', '0.5', 'E4', '4.9', '9.0', '9.0.4', '2', '2.6', 'E4', '9.0', 'C4', '9.0.4', '2', '5.7', 'E4', '7.11', 'B3', '4.7.11', '2', '2', '7', 'B3', '2.5', 'F3']\n"
          ]
        }
      ],
      "source": [
        "print(\"First fifty values in the Corpus:\", pitches_dataset[:50])"
      ]
    },
    {
      "cell_type": "code",
      "execution_count": null,
      "metadata": {
        "colab": {
          "base_uri": "https://localhost:8080/",
          "height": 497
        },
        "id": "uYcrneM4AHSC",
        "outputId": "b395296e-bd1d-4c4f-85c4-80b68cffa8c2"
      },
      "outputs": [
        {
          "data": {
            "image/png": "[encoded data removed]",
            "text/plain": [
              "<IPython.core.display.Image object>"
            ]
          },
          "metadata": {},
          "output_type": "display_data"
        }
      ],
      "source": [
        "# Funkcja do wizualizacji muzyki\n",
        "def show(score):\n",
        "    img_path = score.write('lily.png')  # Zapisuje muzykę jako obrazek o nazwie lily.png\n",
        "    display(Image(img_path))  # Wyświetla obrazek w notatniku Jupyter\n",
        "\n",
        "def create_melody(pitch_sequence):\n",
        "    musical_elements = []\n",
        "    time_position = 0  # Zmienna do kontrolowania czasu pomiędzy nutami/akordami\n",
        "\n",
        "    for element in pitch_sequence:\n",
        "        # Sprawdzamy, czy element jest akordem\n",
        "        if \".\" in element or element.isdigit():  # Jeżeli zawiera kropkę (akord) lub jest liczbą (wartość MIDI)\n",
        "            note_indices = element.split(\".\")\n",
        "            chord_notes = []\n",
        "\n",
        "            for i in note_indices:\n",
        "                inst_note=int(i)\n",
        "                note_snip = note.Note(inst_note)\n",
        "                chord_notes.append(note_snip)\n",
        "                chord_snip = chord.Chord(chord_notes)\n",
        "                chord_snip.offset = time_position\n",
        "                musical_elements.append(chord_snip)\n",
        "        # pattern is a note\n",
        "        else:\n",
        "            note_snip = note.Note(element)\n",
        "            note_snip.offset = time_position\n",
        "            musical_elements.append(note_snip)\n",
        "        # increase offset each iteration so that notes do not stack\n",
        "\n",
        "        time_position += 1  # Zwiększamy czas pomiędzy nutami/akordami\n",
        "\n",
        "    return stream.Stream(musical_elements)\n",
        "\n",
        "# Tworzenie melodii z pierwszych 100 dźwięków z Corpusu\n",
        "melody_segment = create_melody(pitches_dataset[:100])  # Tworzy melodię z pierwszych 100 dźwięków w pitches_dataset\n",
        "show(melody_segment)  # Wyświetla melodię"
      ]
    },
    {
      "cell_type": "code",
      "execution_count": null,
      "metadata": {
        "colab": {
          "base_uri": "https://localhost:8080/"
        },
        "id": "eUbzDsDxH1GK",
        "outputId": "1bb25ead-faf3-48fb-a50c-c3d6d572c6d5"
      },
      "outputs": [
        {
          "name": "stdout",
          "output_type": "stream",
          "text": [
            "Total distinct notes in the dataset: 397\n"
          ]
        }
      ],
      "source": [
        "note_count = Counter(pitches_dataset)   # Tworzy obiekt typu Counter - tablica - który zlicza wystąpienia każdego elementu w pitches_dataset i zapisuje wynik w zmiennej\n",
        "# WYNIK:  Counter({'C': 3, 'D': 2, 'E': 1})\n",
        "print(\"Total distinct notes in the dataset:\", len(note_count)) # Wyświetla liczbę unikalnych elementów (dźwięków) w note_count, czyli liczbę różnych dźwięków w zbiorze danych., tablicy.\n",
        "# WYNIK:  3 (bo 'C', 'D', i 'E')."
      ]
    },
    {
      "cell_type": "code",
      "execution_count": null,
      "metadata": {
        "colab": {
          "base_uri": "https://localhost:8080/"
        },
        "id": "eSpZUL7V_5b5",
        "outputId": "48406a7c-4693-48be-a3e0-060830a55adb"
      },
      "outputs": [
        {
          "name": "stdout",
          "output_type": "stream",
          "text": [
            "Średnia liczba wystąpień dźwięku w zbiorze danych: 145.83\n",
            "Najczęściej występujący dźwięk to 'G#3', pojawił się 1627 razy\n",
            "Najrzadziej występujący dźwięk to '11.0.3', pojawił się 1 razy\n"
          ]
        }
      ],
      "source": [
        "# Eksploracja słownika nut\n",
        "notes_list = list(note_count.keys())  # Pobiera listę unikalnych dźwięków (kluczy) z note_count\n",
        "recurrence_list = list(note_count.values())  # Pobiera listę liczby wystąpień (wartości) z note_count\n",
        "\n",
        "# Obliczanie średniej częstotliwości wystąpień dźwięków\n",
        "def calculate_average(lst):\n",
        "    return sum(lst) / len(lst) if lst else 0  # Warunek zabezpieczający przed dzieleniem przez zero\n",
        "\n",
        "# Średnia liczba wystąpień dźwięków\n",
        "average_recurrence = calculate_average(recurrence_list)\n",
        "print(f\"Średnia liczba wystąpień dźwięku w zbiorze danych: {average_recurrence:.2f}\")\n",
        "\n",
        "# Najczęściej i najrzadziej występujące dźwięki\n",
        "most_frequent_count = max(recurrence_list)  # Maksymalna liczba wystąpień\n",
        "least_frequent_count = min(recurrence_list)  # Minimalna liczba wystąpień\n",
        "\n",
        "# Mapowanie do odpowiednich nut\n",
        "most_frequent_note = notes_list[recurrence_list.index(most_frequent_count)]  # Znajduje nutę o maksymalnej liczbie wystąpień\n",
        "least_frequent_note = notes_list[recurrence_list.index(least_frequent_count)]  # Znajduje nutę o minimalnej liczbie wystąpień\n",
        "\n",
        "# Wyświetlanie wyników\n",
        "print(f\"Najczęściej występujący dźwięk to '{most_frequent_note}', pojawił się {most_frequent_count} razy\")\n",
        "print(f\"Najrzadziej występujący dźwięk to '{least_frequent_note}', pojawił się {least_frequent_count} razy\")\n"
      ]
    },
    {
      "cell_type": "code",
      "execution_count": null,
      "metadata": {
        "colab": {
          "base_uri": "https://localhost:8080/"
        },
        "id": "8RzucC0oAAZJ",
        "outputId": "76327af8-192c-4576-d686-6b7f4cde917e"
      },
      "outputs": [
        {
          "name": "stdout",
          "output_type": "stream",
          "text": [
            "Total number of notes that occur less than 100 times: 270\n",
            "Length of Corpus after eliminating the rare notes: 53746\n"
          ]
        }
      ],
      "source": [
        "# Lista rzadkich nut (działa jak w kodzie 1)\n",
        "rare_notes = []\n",
        "\n",
        "# Iteracja przez słownik `note_count` w celu zebrania nut występujących mniej niż 100 razy\n",
        "for key, value in note_count.items():\n",
        "    if value < 100:\n",
        "        rare_notes.append(key)\n",
        "\n",
        "# Wyświetlenie liczby rzadkich nut\n",
        "print(\"Total number of notes that occur less than 100 times:\", len(rare_notes))\n",
        "\n",
        "# Usuwanie rzadkich nut z pitches_dataset (modyfikacja w miejscu, jak w kodzie 1)\n",
        "for element in pitches_dataset:\n",
        "    if element in rare_notes:\n",
        "        pitches_dataset.remove(element)\n",
        "\n",
        "# Wyświetlenie długości listy po usunięciu rzadkich nut\n",
        "print(\"Length of Corpus after eliminating the rare notes:\", len(pitches_dataset))\n"
      ]
    },
    {
      "cell_type": "markdown",
      "metadata": {
        "id": "KbmbmaI1vP_3"
      },
      "source": []
    },
    {
      "cell_type": "code",
      "execution_count": null,
      "metadata": {
        "colab": {
          "base_uri": "https://localhost:8080/"
        },
        "id": "CraMeH3VAtrY",
        "outputId": "2e8ddaf4-defd-4239-dbc5-27b225a51c15"
      },
      "outputs": [
        {
          "name": "stdout",
          "output_type": "stream",
          "text": [
            "Total number of characters: 53746\n",
            "Number of unique characters: 256\n"
          ]
        }
      ],
      "source": [
        "# Tworzenie listy unikalnych symboli występujących w zbiorze przy użyciu funkcji set() (usunięcie duplikatów).\n",
        "unique_notes = sorted(list(set(pitches_dataset)))\n",
        "\n",
        "Length_pitches_dataset = len(pitches_dataset) # Obliczana jest długość zbioru (czyli całkowita liczba symboli w danych wejściowych) i zapisywana w zmiennej\n",
        "Length_unique_notes = len(unique_notes) # Obliczana jest liczba unikalnych symboli w zbiorze i zapisywana w zmiennej\n",
        "\n",
        "note_to_int = dict((s, i) for i, s in enumerate(unique_notes))  # Tworzenie słownika, który mapuje każdy symbol s w symb na unikalny indeks liczbowy i.\n",
        "int_to_note = dict((i, s) for i, s in enumerate(unique_notes))  # Tworzenie odwrotnego słownika, który mapuje indeks liczbowy i na odpowiadający mu symbol s.\n",
        "\n",
        "\n",
        "print(\"Total number of characters:\", Length_pitches_dataset)\n",
        "print(\"Number of unique characters:\", Length_unique_notes)"
      ]
    },
    {
      "cell_type": "code",
      "execution_count": null,
      "metadata": {
        "colab": {
          "base_uri": "https://localhost:8080/"
        },
        "id": "BP-CZHYzmNMK",
        "outputId": "4565f870-4f17-4c76-ba41-0392551f1965"
      },
      "outputs": [
        {
          "name": "stdout",
          "output_type": "stream",
          "text": [
            "{'0': 0, '0.1': 1, '0.2': 2, '0.2.5': 3, '0.2.6': 4, '0.2.6.8': 5, '0.3': 6, '0.3.5': 7, '0.3.6': 8, '0.3.6.9': 9, '0.3.7': 10, '0.4': 11, '0.4.5': 12, '0.4.6': 13, '0.4.7': 14, '0.5': 15, '0.5.6': 16, '0.6': 17, '1': 18, '1.2': 19, '1.2.3': 20, '1.2.4.8': 21, '1.3': 22, '1.3.6': 23, '1.3.7': 24, '1.3.8': 25, '1.4': 26, '1.4.6': 27, '1.4.7': 28, '1.4.7.10': 29, '1.5': 30, '1.5.6': 31, '1.5.8': 32, '1.6': 33, '1.7': 34, '10': 35, '10.0': 36, '10.0.3.6': 37, '10.0.4': 38, '10.0.5': 39, '10.1': 40, '10.1.3': 41, '10.1.4': 42, '10.1.5': 43, '10.11': 44, '10.11.2': 45, '10.2': 46, '10.2.5': 47, '10.3': 48, '11': 49, '11.0': 50, '11.0.2': 51, '11.0.2.3': 52, '11.0.4': 53, '11.1': 54, '11.1.6': 55, '11.2': 56, '11.2.5': 57, '11.2.6': 58, '11.3': 59, '11.3.4': 60, '11.3.5': 61, '11.3.6': 62, '11.4': 63, '2': 64, '2.3': 65, '2.4': 66, '2.4.5': 67, '2.4.7': 68, '2.4.8': 69, '2.5': 70, '2.5.7': 71, '2.5.8': 72, '2.5.9': 73, '2.6': 74, '2.6.8': 75, '2.7': 76, '2.8': 77, '3': 78, '3.4': 79, '3.5': 80, '3.5.10': 81, '3.5.8': 82, '3.5.8.11': 83, '3.5.9': 84, '3.6': 85, '3.6.10': 86, '3.6.8': 87, '3.6.9': 88, '3.7': 89, '3.7.10': 90, '3.8': 91, '3.9': 92, '4': 93, '4.10': 94, '4.5': 95, '4.5.7': 96, '4.6': 97, '4.6.10': 98, '4.6.11': 99, '4.6.9': 100, '4.7': 101, '4.7.10': 102, '4.7.11': 103, '4.7.9': 104, '4.8': 105, '4.8.11': 106, '4.9': 107, '5': 108, '5.10': 109, '5.11': 110, '5.6': 111, '5.6.8.9': 112, '5.7': 113, '5.7.10': 114, '5.8': 115, '5.8.0': 116, '5.8.10': 117, '5.9': 118, '5.9.11': 119, '6': 120, '6.10': 121, '6.10.0': 122, '6.10.1': 123, '6.11': 124, '6.7': 125, '6.7.10.1': 126, '6.8': 127, '6.8.0': 128, '6.8.1': 129, '6.8.10.2': 130, '6.9': 131, '6.9.0': 132, '6.9.0.2': 133, '6.9.1': 134, '7': 135, '7.0': 136, '7.10': 137, '7.10.1': 138, '7.10.1.3': 139, '7.10.2': 140, '7.11': 141, '7.11.2': 142, '7.8': 143, '7.8.0': 144, '7.8.1': 145, '7.8.10.11': 146, '7.8.11': 147, '7.9': 148, '8': 149, '8.0': 150, '8.0.3': 151, '8.1': 152, '8.10': 153, '8.10.1.3': 154, '8.10.2': 155, '8.10.3': 156, '8.11': 157, '8.11.1': 158, '8.11.2': 159, '8.11.2.3': 160, '8.11.2.4': 161, '8.11.3': 162, '8.9': 163, '8.9.11.0': 164, '8.9.11.3': 165, '8.9.2': 166, '9': 167, '9.0': 168, '9.0.1': 169, '9.0.3': 170, '9.0.3.5': 171, '9.0.4': 172, '9.1': 173, '9.10': 174, '9.11': 175, '9.11.3': 176, '9.11.4': 177, '9.2': 178, '9.2.3': 179, 'A1': 180, 'A2': 181, 'A3': 182, 'A4': 183, 'A5': 184, 'A6': 185, 'B-1': 186, 'B-2': 187, 'B-3': 188, 'B-4': 189, 'B-5': 190, 'B-6': 191, 'B1': 192, 'B2': 193, 'B3': 194, 'B4': 195, 'B5': 196, 'B6': 197, 'C#2': 198, 'C#3': 199, 'C#4': 200, 'C#5': 201, 'C#6': 202, 'C#7': 203, 'C2': 204, 'C3': 205, 'C4': 206, 'C5': 207, 'C6': 208, 'C7': 209, 'D1': 210, 'D2': 211, 'D3': 212, 'D4': 213, 'D5': 214, 'D6': 215, 'D7': 216, 'E-1': 217, 'E-2': 218, 'E-3': 219, 'E-4': 220, 'E-5': 221, 'E-6': 222, 'E-7': 223, 'E1': 224, 'E2': 225, 'E3': 226, 'E4': 227, 'E5': 228, 'E6': 229, 'E7': 230, 'F#1': 231, 'F#2': 232, 'F#3': 233, 'F#4': 234, 'F#5': 235, 'F#6': 236, 'F1': 237, 'F2': 238, 'F3': 239, 'F4': 240, 'F5': 241, 'F6': 242, 'F7': 243, 'G#1': 244, 'G#2': 245, 'G#3': 246, 'G#4': 247, 'G#5': 248, 'G#6': 249, 'G1': 250, 'G2': 251, 'G3': 252, 'G4': 253, 'G5': 254, 'G6': 255}\n",
            "{0: '0', 1: '0.1', 2: '0.2', 3: '0.2.5', 4: '0.2.6', 5: '0.2.6.8', 6: '0.3', 7: '0.3.5', 8: '0.3.6', 9: '0.3.6.9', 10: '0.3.7', 11: '0.4', 12: '0.4.5', 13: '0.4.6', 14: '0.4.7', 15: '0.5', 16: '0.5.6', 17: '0.6', 18: '1', 19: '1.2', 20: '1.2.3', 21: '1.2.4.8', 22: '1.3', 23: '1.3.6', 24: '1.3.7', 25: '1.3.8', 26: '1.4', 27: '1.4.6', 28: '1.4.7', 29: '1.4.7.10', 30: '1.5', 31: '1.5.6', 32: '1.5.8', 33: '1.6', 34: '1.7', 35: '10', 36: '10.0', 37: '10.0.3.6', 38: '10.0.4', 39: '10.0.5', 40: '10.1', 41: '10.1.3', 42: '10.1.4', 43: '10.1.5', 44: '10.11', 45: '10.11.2', 46: '10.2', 47: '10.2.5', 48: '10.3', 49: '11', 50: '11.0', 51: '11.0.2', 52: '11.0.2.3', 53: '11.0.4', 54: '11.1', 55: '11.1.6', 56: '11.2', 57: '11.2.5', 58: '11.2.6', 59: '11.3', 60: '11.3.4', 61: '11.3.5', 62: '11.3.6', 63: '11.4', 64: '2', 65: '2.3', 66: '2.4', 67: '2.4.5', 68: '2.4.7', 69: '2.4.8', 70: '2.5', 71: '2.5.7', 72: '2.5.8', 73: '2.5.9', 74: '2.6', 75: '2.6.8', 76: '2.7', 77: '2.8', 78: '3', 79: '3.4', 80: '3.5', 81: '3.5.10', 82: '3.5.8', 83: '3.5.8.11', 84: '3.5.9', 85: '3.6', 86: '3.6.10', 87: '3.6.8', 88: '3.6.9', 89: '3.7', 90: '3.7.10', 91: '3.8', 92: '3.9', 93: '4', 94: '4.10', 95: '4.5', 96: '4.5.7', 97: '4.6', 98: '4.6.10', 99: '4.6.11', 100: '4.6.9', 101: '4.7', 102: '4.7.10', 103: '4.7.11', 104: '4.7.9', 105: '4.8', 106: '4.8.11', 107: '4.9', 108: '5', 109: '5.10', 110: '5.11', 111: '5.6', 112: '5.6.8.9', 113: '5.7', 114: '5.7.10', 115: '5.8', 116: '5.8.0', 117: '5.8.10', 118: '5.9', 119: '5.9.11', 120: '6', 121: '6.10', 122: '6.10.0', 123: '6.10.1', 124: '6.11', 125: '6.7', 126: '6.7.10.1', 127: '6.8', 128: '6.8.0', 129: '6.8.1', 130: '6.8.10.2', 131: '6.9', 132: '6.9.0', 133: '6.9.0.2', 134: '6.9.1', 135: '7', 136: '7.0', 137: '7.10', 138: '7.10.1', 139: '7.10.1.3', 140: '7.10.2', 141: '7.11', 142: '7.11.2', 143: '7.8', 144: '7.8.0', 145: '7.8.1', 146: '7.8.10.11', 147: '7.8.11', 148: '7.9', 149: '8', 150: '8.0', 151: '8.0.3', 152: '8.1', 153: '8.10', 154: '8.10.1.3', 155: '8.10.2', 156: '8.10.3', 157: '8.11', 158: '8.11.1', 159: '8.11.2', 160: '8.11.2.3', 161: '8.11.2.4', 162: '8.11.3', 163: '8.9', 164: '8.9.11.0', 165: '8.9.11.3', 166: '8.9.2', 167: '9', 168: '9.0', 169: '9.0.1', 170: '9.0.3', 171: '9.0.3.5', 172: '9.0.4', 173: '9.1', 174: '9.10', 175: '9.11', 176: '9.11.3', 177: '9.11.4', 178: '9.2', 179: '9.2.3', 180: 'A1', 181: 'A2', 182: 'A3', 183: 'A4', 184: 'A5', 185: 'A6', 186: 'B-1', 187: 'B-2', 188: 'B-3', 189: 'B-4', 190: 'B-5', 191: 'B-6', 192: 'B1', 193: 'B2', 194: 'B3', 195: 'B4', 196: 'B5', 197: 'B6', 198: 'C#2', 199: 'C#3', 200: 'C#4', 201: 'C#5', 202: 'C#6', 203: 'C#7', 204: 'C2', 205: 'C3', 206: 'C4', 207: 'C5', 208: 'C6', 209: 'C7', 210: 'D1', 211: 'D2', 212: 'D3', 213: 'D4', 214: 'D5', 215: 'D6', 216: 'D7', 217: 'E-1', 218: 'E-2', 219: 'E-3', 220: 'E-4', 221: 'E-5', 222: 'E-6', 223: 'E-7', 224: 'E1', 225: 'E2', 226: 'E3', 227: 'E4', 228: 'E5', 229: 'E6', 230: 'E7', 231: 'F#1', 232: 'F#2', 233: 'F#3', 234: 'F#4', 235: 'F#5', 236: 'F#6', 237: 'F1', 238: 'F2', 239: 'F3', 240: 'F4', 241: 'F5', 242: 'F6', 243: 'F7', 244: 'G#1', 245: 'G#2', 246: 'G#3', 247: 'G#4', 248: 'G#5', 249: 'G#6', 250: 'G1', 251: 'G2', 252: 'G3', 253: 'G4', 254: 'G5', 255: 'G6'}\n"
          ]
        }
      ],
      "source": [
        "print(note_to_int)\n",
        "print(int_to_note)"
      ]
    },
    {
      "cell_type": "code",
      "execution_count": null,
      "metadata": {
        "colab": {
          "base_uri": "https://localhost:8080/"
        },
        "id": "kti81Ab8Au7F",
        "outputId": "d6a372ae-9d77-4f4e-b768-b500f61ea9d0"
      },
      "outputs": [
        {
          "name": "stdout",
          "output_type": "stream",
          "text": [
            "Total number of sequences in the Corpus: 53706\n"
          ]
        }
      ],
      "source": [
        "sequence_length = 40  # Długość sekwencji wejściowej (identyczna jak w kodzie 1)\n",
        "features = []  # Lista na sekwencje wejściowe\n",
        "targets = []  # Lista na wartości docelowe\n",
        "\n",
        "# Iteracja przez korpus w celu wygenerowania sekwencji i wartości docelowych\n",
        "for i in range(0, Length_pitches_dataset - sequence_length, 1):  # Iterujemy przez korpus tak, aby każda sekwencja miała długość równą sequence_length\n",
        "    sequence_in = pitches_dataset[i:i + sequence_length]  # Wyciągamy sekwencję o długości sequence_length\n",
        "    sequence_out = pitches_dataset[i + sequence_length]  # Pobieramy wartość docelową (nutę, która następuje po sekwencji)\n",
        "\n",
        "    # Zamieniamy sekwencję wejściową i wartość docelową na odpowiadające im indeksy numeryczne\n",
        "    numeric_sequence_in = [note_to_int[i] for i in sequence_in]  # Mapujemy symbole w sekwencji wejściowej na liczby\n",
        "    numeric_sequence_out = note_to_int[sequence_out]  # Mapujemy wartość docelową na liczbę\n",
        "\n",
        "    # Dodajemy zmapowane dane do odpowiednich list\n",
        "    features.append(numeric_sequence_in)  # Dodajemy zmapowaną sekwencję wejściową\n",
        "    targets.append(numeric_sequence_out)  # Dodajemy zmapowaną wartość docelową\n",
        "\n",
        "# Obliczenie liczby punktów danych\n",
        "num_datapoints = len(targets)  # Liczymy liczbę par \"cecha-wartość docelowa\"\n",
        "\n",
        "# Wyświetlenie informacji o liczbie sekwencji\n",
        "print(\"Total number of sequences in the Corpus:\", num_datapoints)"
      ]
    },
    {
      "cell_type": "code",
      "execution_count": null,
      "metadata": {
        "id": "b_BgTrQRA1mc"
      },
      "outputs": [],
      "source": [
        "# Konwersja do tablicy numpy, dodanie wymiaru i normalizacja\n",
        "X = np.expand_dims(np.array(features), axis=-1) / Length_unique_notes\n",
        "\n",
        "# np.array(features): Bierzemy naszą listę liczb (features) i zamieniamy ją na wygodną formę, jakbyśmy układali liczby w tabeli.\n",
        "# np.expand_dims(..., axis=-1): Dodajemy dodatkowe miejsce w tej tabeli, jakbyśmy dodali nową kolumnę, aby tabela miała odpowiedni kształt.\n",
        "# / count_unique_notes: Dzielimy wszystkie liczby w tabeli przez całkowitą liczbę różnych nut, aby zmienić je na mniejsze liczby między 0 a 1. To jak podzielenie wielkiej\n",
        "# porcji na małe kawałki, żeby wszystko mieściło się w jednym pudełku\n",
        "\n",
        "# One-hot encoding zmiennej wyjściowej\n",
        "y = to_categorical(targets, num_classes=Length_unique_notes)\n",
        "\n",
        "# to_categorical(targets, num_classes=count_unique_notes): Zamieniamy nasze liczby (targets) na specjalny kod, gdzie każda liczba ma swoją osobną szufladkę.\n",
        "# Jeśli mamy na przykład 5 różnych nut, każda nuta dostaje swoje własne miejsce w tej szufladce, a wszystkie inne miejsca są puste (z 0). To pomaga komputerowi\n",
        "# lepiej zrozumieć, którą nutę chcemy wybrać, bo każda nuta ma swoje własne miejsce.\n"
      ]
    },
    {
      "cell_type": "code",
      "execution_count": null,
      "metadata": {
        "id": "wil3RgdKA8Cy"
      },
      "outputs": [],
      "source": [
        "X_train, X_test, y_train, y_test = train_test_split(X, y, test_size=0.25, random_state=42)"
      ]
    },
    {
      "cell_type": "code",
      "execution_count": null,
      "metadata": {
        "colab": {
          "base_uri": "https://localhost:8080/"
        },
        "id": "ZknGSSf6BANi",
        "outputId": "6c2bbf0f-8d87-4352-c896-0cfa80288ebf"
      },
      "outputs": [
        {
          "name": "stdout",
          "output_type": "stream",
          "text": [
            "Epoch 1/10\n",
            "\u001b[1m315/315\u001b[0m \u001b[32m━━━━━━━━━━━━━━━━━━━━\u001b[0m\u001b[37m\u001b[0m \u001b[1m89s\u001b[0m 271ms/step - accuracy: 0.0238 - loss: 4.7673 - val_accuracy: 0.0336 - val_loss: 4.4942\n",
            "Epoch 2/10\n",
            "\u001b[1m315/315\u001b[0m \u001b[32m━━━━━━━━━━━━━━━━━━━━\u001b[0m\u001b[37m\u001b[0m \u001b[1m142s\u001b[0m 272ms/step - accuracy: 0.0326 - loss: 4.4737 - val_accuracy: 0.0369 - val_loss: 4.4863\n",
            "Epoch 3/10\n",
            "\u001b[1m315/315\u001b[0m \u001b[32m━━━━━━━━━━━━━━━━━━━━\u001b[0m\u001b[37m\u001b[0m \u001b[1m141s\u001b[0m 268ms/step - accuracy: 0.0374 - loss: 4.4544 - val_accuracy: 0.0380 - val_loss: 4.4429\n",
            "Epoch 4/10\n",
            "\u001b[1m315/315\u001b[0m \u001b[32m━━━━━━━━━━━━━━━━━━━━\u001b[0m\u001b[37m\u001b[0m \u001b[1m143s\u001b[0m 270ms/step - accuracy: 0.0354 - loss: 4.4331 - val_accuracy: 0.0384 - val_loss: 4.4749\n",
            "Epoch 5/10\n",
            "\u001b[1m315/315\u001b[0m \u001b[32m━━━━━━━━━━━━━━━━━━━━\u001b[0m\u001b[37m\u001b[0m \u001b[1m142s\u001b[0m 272ms/step - accuracy: 0.0362 - loss: 4.4314 - val_accuracy: 0.0376 - val_loss: 4.4312\n",
            "Epoch 6/10\n",
            "\u001b[1m315/315\u001b[0m \u001b[32m━━━━━━━━━━━━━━━━━━━━\u001b[0m\u001b[37m\u001b[0m \u001b[1m142s\u001b[0m 271ms/step - accuracy: 0.0383 - loss: 4.4128 - val_accuracy: 0.0394 - val_loss: 4.4147\n",
            "Epoch 7/10\n",
            "\u001b[1m315/315\u001b[0m \u001b[32m━━━━━━━━━━━━━━━━━━━━\u001b[0m\u001b[37m\u001b[0m \u001b[1m82s\u001b[0m 260ms/step - accuracy: 0.0408 - loss: 4.3865 - val_accuracy: 0.0411 - val_loss: 4.4088\n",
            "Epoch 8/10\n",
            "\u001b[1m315/315\u001b[0m \u001b[32m━━━━━━━━━━━━━━━━━━━━\u001b[0m\u001b[37m\u001b[0m \u001b[1m85s\u001b[0m 269ms/step - accuracy: 0.0419 - loss: 4.3834 - val_accuracy: 0.0443 - val_loss: 4.3790\n",
            "Epoch 9/10\n",
            "\u001b[1m315/315\u001b[0m \u001b[32m━━━━━━━━━━━━━━━━━━━━\u001b[0m\u001b[37m\u001b[0m \u001b[1m142s\u001b[0m 269ms/step - accuracy: 0.0481 - loss: 4.3454 - val_accuracy: 0.0481 - val_loss: 4.3326\n",
            "Epoch 10/10\n",
            "\u001b[1m315/315\u001b[0m \u001b[32m━━━━━━━━━━━━━━━━━━━━\u001b[0m\u001b[37m\u001b[0m \u001b[1m143s\u001b[0m 273ms/step - accuracy: 0.0490 - loss: 4.3131 - val_accuracy: 0.0534 - val_loss: 4.2917\n"
          ]
        }
      ],
      "source": [
        "# Model i kompilacja\n",
        "model = Sequential()\n",
        "model.add(LSTM(128, input_shape=(X_train.shape[1], X_train.shape[2]), return_sequences=True))\n",
        "model.add(Dropout(0.3))\n",
        "#model.add(LSTM(64, return_sequences=True))\n",
        "#model.add(Dropout(0.3))\n",
        "model.add(LSTM(128))\n",
        "model.add(Dense(64))\n",
        "model.add(Dropout(0.3))\n",
        "model.add(Dense(y_train.shape[1], activation='softmax'))\n",
        "\n",
        "opt = Adamax(learning_rate=0.01)\n",
        "model.compile(loss='categorical_crossentropy', optimizer=opt, metrics=['accuracy'])\n",
        "\n",
        "# Rozpocznij pomiar czasu\n",
        "start_time = time.time()\n",
        "\n",
        "# Trening modelu\n",
        "history = model.fit(X_train, y_train,\n",
        "                    validation_data=(X_test, y_test),\n",
        "                    batch_size=128,\n",
        "                    epochs=10)\n",
        "\n",
        "# Zakończ pomiar czasu\n",
        "end_time = time.time()\n",
        "training_time = end_time - start_time\n"
      ]
    },
    {
      "cell_type": "code",
      "execution_count": null,
      "metadata": {
        "colab": {
          "base_uri": "https://localhost:8080/",
          "height": 139
        },
        "id": "uWnDuaiHgRpE",
        "outputId": "6b94d5a0-7ca3-417c-bc7d-5a303f79f84b"
      },
      "outputs": [
        {
          "name": "stdout",
          "output_type": "stream",
          "text": [
            "\u001b[1m420/420\u001b[0m \u001b[32m━━━━━━━━━━━━━━━━━━━━\u001b[0m\u001b[37m\u001b[0m \u001b[1m18s\u001b[0m 41ms/step\n",
            "\u001b[1m1259/1259\u001b[0m \u001b[32m━━━━━━━━━━━━━━━━━━━━\u001b[0m\u001b[37m\u001b[0m \u001b[1m51s\u001b[0m 40ms/step\n"
          ]
        },
        {
          "data": {
            "application/vnd.google.colaboratory.intrinsic+json": {
              "type": "string"
            },
            "text/plain": [
              "'\\n# Wyświetlanie wyników\\nprint(\"\\nWyniki dla zbioru treningowego:\")\\nprint(f\"Loss: {final_loss_train:.4f}\")\\nprint(f\"Perplexity: {perplexity_train:.4f}\")\\nprint(f\"Accuracy: {accuracy_train:.4f}\")\\nprint(f\"F1-Score: {f1_train:.4f}\")\\nprint(f\"Precision: {precision_train:.4f}\")\\nprint(f\"Recall: {recall_train:.4f}\")\\n\\nprint(f\"Czas wykonywania treningu: {training_time:.2f} sekund\")\\n\\nprint(\"Wyniki dla zbioru testowego:\")\\nprint(f\"Loss: {final_loss_test:.4f}\")\\nprint(f\"Perplexity: {perplexity_test:.4f}\")\\nprint(f\"Accuracy: {accuracy_test:.4f}\")\\nprint(f\"F1-Score: {f1_test:.4f}\")\\nprint(f\"Precision: {precision_test:.4f}\")\\nprint(f\"Recall: {recall_test:.4f}\")\\n'"
            ]
          },
          "execution_count": 24,
          "metadata": {},
          "output_type": "execute_result"
        }
      ],
      "source": [
        "# metryki modelu\n",
        "from scipy.stats import entropy\n",
        "from sklearn.metrics import confusion_matrix\n",
        "from sklearn.metrics.pairwise import cosine_similarity\n",
        "\n",
        "def calculate_metrics(y_true, y_pred):\n",
        "    accuracy = accuracy_score(y_true, y_pred)\n",
        "    precision = precision_score(y_true, y_pred, average='weighted')\n",
        "    recall = recall_score(y_true, y_pred, average='weighted')\n",
        "    f1 = f1_score(y_true, y_pred, average='weighted')\n",
        "\n",
        "    return accuracy, precision, recall, f1\n",
        "\n",
        "# Prognozy na zbiorze testowym\n",
        "y_pred_test = model.predict(X_test)\n",
        "y_pred_test_classes = np.argmax(y_pred_test, axis=1)\n",
        "y_true_test_classes = np.argmax(y_test, axis=1)\n",
        "\n",
        "# Prognozy na zbiorze treningowym\n",
        "y_pred_train = model.predict(X_train)\n",
        "y_pred_train_classes = np.argmax(y_pred_train, axis=1)\n",
        "y_true_train_classes = np.argmax(y_train, axis=1)\n",
        "\n",
        "# Oblicz metryki\n",
        "accuracy_test, precision_test, recall_test, f1_test = calculate_metrics(y_true_test_classes, y_pred_test_classes)\n",
        "accuracy_train, precision_train, recall_train, f1_train = calculate_metrics(y_true_train_classes, y_pred_train_classes)\n",
        "\n",
        "\n",
        "def perplexity(y_true_onehot, y_pred):\n",
        "    # Zakładamy, że y_true jest one-hot encoded (tak jak y_test)\n",
        "    loss_fn = tf.keras.losses.CategoricalCrossentropy(from_logits=False)\n",
        "    loss = loss_fn(y_true_onehot, y_pred).numpy()  # Wylicz stratę crossentropy\n",
        "    return np.exp(loss)\n",
        "\n",
        "perplexity_test = perplexity(y_test, y_pred_test)\n",
        "perplexity_train = perplexity(y_train, y_pred_train)\n",
        "\n",
        "\n",
        "# Dodajemy ostateczną wartość straty dla zbioru treningowego i walidacyjnego\n",
        "final_loss_train = history.history['loss'][-1]\n",
        "final_loss_test = history.history['val_loss'][-1]\n",
        "\n",
        "# Funkcja do obliczania n-gramów w sekwencji\n",
        "def n_gram_analysis(sequence, n):\n",
        "    ngrams = zip(*[sequence[i:] for i in range(n)])\n",
        "    counts = Counter(ngrams)\n",
        "    return counts\n",
        "\n",
        "#-----------------------------------------------------------------------------------------------------------------------------------------------------------\n",
        "# Funkcja porównująca n-gramy z danymi uczącymi\n",
        "def compare_n_grams(y_train, y_pred, n):\n",
        "    # Analiza n-gramów w zbiorze uczącym\n",
        "    n_gram_counts_train = n_gram_analysis(y_train, n)\n",
        "\n",
        "    # Analiza n-gramów w przewidywaniach modelu\n",
        "    n_gram_counts_pred = n_gram_analysis(y_pred, n)\n",
        "\n",
        "    # Zwracamy wyniki\n",
        "    return n_gram_counts_train, n_gram_counts_pred\n",
        "\n",
        "# Funkcja do obliczania podobieństwa kosinusowego pomiędzy wektorami n-gramów\n",
        "def compare_n_grams_cosine(y_train, y_pred, n):\n",
        "    n_gram_counts_train, n_gram_counts_pred = compare_n_grams(y_train, y_pred, n)\n",
        "\n",
        "    # Przygotowanie wektorów częstości n-gramów\n",
        "    all_ngrams = list(set(n_gram_counts_train.keys()).union(set(n_gram_counts_pred.keys())))\n",
        "\n",
        "    vec_train = np.array([n_gram_counts_train.get(ngram, 0) for ngram in all_ngrams])\n",
        "    vec_pred = np.array([n_gram_counts_pred.get(ngram, 0) for ngram in all_ngrams])\n",
        "\n",
        "    # Obliczenie podobieństwa kosinusowego\n",
        "    similarity = cosine_similarity([vec_train], [vec_pred])[0][0]\n",
        "\n",
        "    return similarity\n",
        "\n",
        "# Przykład analizy n-gramów (bigramów)\n",
        "n = 2  # dla bigramów\n",
        "\n",
        "# Analiza n-gramów dla zbioru uczącego i przewidywań modelu (zbiór treningowy)\n",
        "n_gram_counts_train, n_gram_counts_train_pred = compare_n_grams(y_train.argmax(axis=1), y_pred_train.argmax(axis=1), n)\n",
        "\n",
        "# Analiza n-gramów dla zbioru testowego i przewidywań modelu (zbiór testowy)\n",
        "n_gram_counts_test, n_gram_counts_test_pred = compare_n_grams(y_test.argmax(axis=1), y_pred_test.argmax(axis=1), n)\n",
        "\n",
        "# Można obliczyć podobieństwo kosinusowe między n-gramami w zbiorze uczącym a przewidywaniami modelu:\n",
        "similarity_train = compare_n_grams_cosine(y_train.argmax(axis=1), y_pred_train.argmax(axis=1), n)\n",
        "similarity_test = compare_n_grams_cosine(y_test.argmax(axis=1), y_pred_test.argmax(axis=1), n)\n",
        "\n",
        "'''\n",
        "# Wyświetlanie wyników\n",
        "print(\"\\nWyniki dla zbioru treningowego:\")\n",
        "print(f\"Loss: {final_loss_train:.4f}\")\n",
        "print(f\"Perplexity: {perplexity_train:.4f}\")\n",
        "print(f\"Accuracy: {accuracy_train:.4f}\")\n",
        "print(f\"F1-Score: {f1_train:.4f}\")\n",
        "print(f\"Precision: {precision_train:.4f}\")\n",
        "print(f\"Recall: {recall_train:.4f}\")\n",
        "\n",
        "print(f\"Czas wykonywania treningu: {training_time:.2f} sekund\")\n",
        "\n",
        "print(\"Wyniki dla zbioru testowego:\")\n",
        "print(f\"Loss: {final_loss_test:.4f}\")\n",
        "print(f\"Perplexity: {perplexity_test:.4f}\")\n",
        "print(f\"Accuracy: {accuracy_test:.4f}\")\n",
        "print(f\"F1-Score: {f1_test:.4f}\")\n",
        "print(f\"Precision: {precision_test:.4f}\")\n",
        "print(f\"Recall: {recall_test:.4f}\")\n",
        "'''\n",
        "#-------------------------------------------------------------------------------------------------------------------------------------------------------------"
      ]
    },
    {
      "cell_type": "code",
      "execution_count": null,
      "metadata": {
        "colab": {
          "base_uri": "https://localhost:8080/",
          "height": 352
        },
        "id": "TsjmglumBFqY",
        "outputId": "ccfb9728-677a-4a29-f3cd-f228b2f0f9dd"
      },
      "outputs": [
        {
          "data": {
            "text/html": [
              "<pre style=\"white-space:pre;overflow-x:auto;line-height:normal;font-family:Menlo,'DejaVu Sans Mono',consolas,'Courier New',monospace\"><span style=\"font-weight: bold\">Model: \"sequential\"</span>\n",
              "</pre>\n"
            ],
            "text/plain": [
              "\u001b[1mModel: \"sequential\"\u001b[0m\n"
            ]
          },
          "metadata": {},
          "output_type": "display_data"
        },
        {
          "data": {
            "text/html": [
              "<pre style=\"white-space:pre;overflow-x:auto;line-height:normal;font-family:Menlo,'DejaVu Sans Mono',consolas,'Courier New',monospace\">┏━━━━━━━━━━━━━━━━━━━━━━━━━━━━━━━━━━━━━━┳━━━━━━━━━━━━━━━━━━━━━━━━━━━━━┳━━━━━━━━━━━━━━━━━┓\n",
              "┃<span style=\"font-weight: bold\"> Layer (type)                         </span>┃<span style=\"font-weight: bold\"> Output Shape                </span>┃<span style=\"font-weight: bold\">         Param # </span>┃\n",
              "┡━━━━━━━━━━━━━━━━━━━━━━━━━━━━━━━━━━━━━━╇━━━━━━━━━━━━━━━━━━━━━━━━━━━━━╇━━━━━━━━━━━━━━━━━┩\n",
              "│ lstm (<span style=\"color: #0087ff; text-decoration-color: #0087ff\">LSTM</span>)                          │ (<span style=\"color: #00d7ff; text-decoration-color: #00d7ff\">None</span>, <span style=\"color: #00af00; text-decoration-color: #00af00\">40</span>, <span style=\"color: #00af00; text-decoration-color: #00af00\">128</span>)             │          <span style=\"color: #00af00; text-decoration-color: #00af00\">66,560</span> │\n",
              "├──────────────────────────────────────┼─────────────────────────────┼─────────────────┤\n",
              "│ dropout (<span style=\"color: #0087ff; text-decoration-color: #0087ff\">Dropout</span>)                    │ (<span style=\"color: #00d7ff; text-decoration-color: #00d7ff\">None</span>, <span style=\"color: #00af00; text-decoration-color: #00af00\">40</span>, <span style=\"color: #00af00; text-decoration-color: #00af00\">128</span>)             │               <span style=\"color: #00af00; text-decoration-color: #00af00\">0</span> │\n",
              "├──────────────────────────────────────┼─────────────────────────────┼─────────────────┤\n",
              "│ lstm_1 (<span style=\"color: #0087ff; text-decoration-color: #0087ff\">LSTM</span>)                        │ (<span style=\"color: #00d7ff; text-decoration-color: #00d7ff\">None</span>, <span style=\"color: #00af00; text-decoration-color: #00af00\">128</span>)                 │         <span style=\"color: #00af00; text-decoration-color: #00af00\">131,584</span> │\n",
              "├──────────────────────────────────────┼─────────────────────────────┼─────────────────┤\n",
              "│ dense (<span style=\"color: #0087ff; text-decoration-color: #0087ff\">Dense</span>)                        │ (<span style=\"color: #00d7ff; text-decoration-color: #00d7ff\">None</span>, <span style=\"color: #00af00; text-decoration-color: #00af00\">64</span>)                  │           <span style=\"color: #00af00; text-decoration-color: #00af00\">8,256</span> │\n",
              "├──────────────────────────────────────┼─────────────────────────────┼─────────────────┤\n",
              "│ dropout_1 (<span style=\"color: #0087ff; text-decoration-color: #0087ff\">Dropout</span>)                  │ (<span style=\"color: #00d7ff; text-decoration-color: #00d7ff\">None</span>, <span style=\"color: #00af00; text-decoration-color: #00af00\">64</span>)                  │               <span style=\"color: #00af00; text-decoration-color: #00af00\">0</span> │\n",
              "├──────────────────────────────────────┼─────────────────────────────┼─────────────────┤\n",
              "│ dense_1 (<span style=\"color: #0087ff; text-decoration-color: #0087ff\">Dense</span>)                      │ (<span style=\"color: #00d7ff; text-decoration-color: #00d7ff\">None</span>, <span style=\"color: #00af00; text-decoration-color: #00af00\">256</span>)                 │          <span style=\"color: #00af00; text-decoration-color: #00af00\">16,640</span> │\n",
              "└──────────────────────────────────────┴─────────────────────────────┴─────────────────┘\n",
              "</pre>\n"
            ],
            "text/plain": [
              "┏━━━━━━━━━━━━━━━━━━━━━━━━━━━━━━━━━━━━━━┳━━━━━━━━━━━━━━━━━━━━━━━━━━━━━┳━━━━━━━━━━━━━━━━━┓\n",
              "┃\u001b[1m \u001b[0m\u001b[1mLayer (type)                        \u001b[0m\u001b[1m \u001b[0m┃\u001b[1m \u001b[0m\u001b[1mOutput Shape               \u001b[0m\u001b[1m \u001b[0m┃\u001b[1m \u001b[0m\u001b[1m        Param #\u001b[0m\u001b[1m \u001b[0m┃\n",
              "┡━━━━━━━━━━━━━━━━━━━━━━━━━━━━━━━━━━━━━━╇━━━━━━━━━━━━━━━━━━━━━━━━━━━━━╇━━━━━━━━━━━━━━━━━┩\n",
              "│ lstm (\u001b[38;5;33mLSTM\u001b[0m)                          │ (\u001b[38;5;45mNone\u001b[0m, \u001b[38;5;34m40\u001b[0m, \u001b[38;5;34m128\u001b[0m)             │          \u001b[38;5;34m66,560\u001b[0m │\n",
              "├──────────────────────────────────────┼─────────────────────────────┼─────────────────┤\n",
              "│ dropout (\u001b[38;5;33mDropout\u001b[0m)                    │ (\u001b[38;5;45mNone\u001b[0m, \u001b[38;5;34m40\u001b[0m, \u001b[38;5;34m128\u001b[0m)             │               \u001b[38;5;34m0\u001b[0m │\n",
              "├──────────────────────────────────────┼─────────────────────────────┼─────────────────┤\n",
              "│ lstm_1 (\u001b[38;5;33mLSTM\u001b[0m)                        │ (\u001b[38;5;45mNone\u001b[0m, \u001b[38;5;34m128\u001b[0m)                 │         \u001b[38;5;34m131,584\u001b[0m │\n",
              "├──────────────────────────────────────┼─────────────────────────────┼─────────────────┤\n",
              "│ dense (\u001b[38;5;33mDense\u001b[0m)                        │ (\u001b[38;5;45mNone\u001b[0m, \u001b[38;5;34m64\u001b[0m)                  │           \u001b[38;5;34m8,256\u001b[0m │\n",
              "├──────────────────────────────────────┼─────────────────────────────┼─────────────────┤\n",
              "│ dropout_1 (\u001b[38;5;33mDropout\u001b[0m)                  │ (\u001b[38;5;45mNone\u001b[0m, \u001b[38;5;34m64\u001b[0m)                  │               \u001b[38;5;34m0\u001b[0m │\n",
              "├──────────────────────────────────────┼─────────────────────────────┼─────────────────┤\n",
              "│ dense_1 (\u001b[38;5;33mDense\u001b[0m)                      │ (\u001b[38;5;45mNone\u001b[0m, \u001b[38;5;34m256\u001b[0m)                 │          \u001b[38;5;34m16,640\u001b[0m │\n",
              "└──────────────────────────────────────┴─────────────────────────────┴─────────────────┘\n"
            ]
          },
          "metadata": {},
          "output_type": "display_data"
        },
        {
          "data": {
            "text/html": [
              "<pre style=\"white-space:pre;overflow-x:auto;line-height:normal;font-family:Menlo,'DejaVu Sans Mono',consolas,'Courier New',monospace\"><span style=\"font-weight: bold\"> Total params: </span><span style=\"color: #00af00; text-decoration-color: #00af00\">669,122</span> (2.55 MB)\n",
              "</pre>\n"
            ],
            "text/plain": [
              "\u001b[1m Total params: \u001b[0m\u001b[38;5;34m669,122\u001b[0m (2.55 MB)\n"
            ]
          },
          "metadata": {},
          "output_type": "display_data"
        },
        {
          "data": {
            "text/html": [
              "<pre style=\"white-space:pre;overflow-x:auto;line-height:normal;font-family:Menlo,'DejaVu Sans Mono',consolas,'Courier New',monospace\"><span style=\"font-weight: bold\"> Trainable params: </span><span style=\"color: #00af00; text-decoration-color: #00af00\">223,040</span> (871.25 KB)\n",
              "</pre>\n"
            ],
            "text/plain": [
              "\u001b[1m Trainable params: \u001b[0m\u001b[38;5;34m223,040\u001b[0m (871.25 KB)\n"
            ]
          },
          "metadata": {},
          "output_type": "display_data"
        },
        {
          "data": {
            "text/html": [
              "<pre style=\"white-space:pre;overflow-x:auto;line-height:normal;font-family:Menlo,'DejaVu Sans Mono',consolas,'Courier New',monospace\"><span style=\"font-weight: bold\"> Non-trainable params: </span><span style=\"color: #00af00; text-decoration-color: #00af00\">0</span> (0.00 B)\n",
              "</pre>\n"
            ],
            "text/plain": [
              "\u001b[1m Non-trainable params: \u001b[0m\u001b[38;5;34m0\u001b[0m (0.00 B)\n"
            ]
          },
          "metadata": {},
          "output_type": "display_data"
        },
        {
          "data": {
            "text/html": [
              "<pre style=\"white-space:pre;overflow-x:auto;line-height:normal;font-family:Menlo,'DejaVu Sans Mono',consolas,'Courier New',monospace\"><span style=\"font-weight: bold\"> Optimizer params: </span><span style=\"color: #00af00; text-decoration-color: #00af00\">446,082</span> (1.70 MB)\n",
              "</pre>\n"
            ],
            "text/plain": [
              "\u001b[1m Optimizer params: \u001b[0m\u001b[38;5;34m446,082\u001b[0m (1.70 MB)\n"
            ]
          },
          "metadata": {},
          "output_type": "display_data"
        }
      ],
      "source": [
        "model.summary()"
      ]
    },
    {
      "cell_type": "code",
      "execution_count": null,
      "metadata": {
        "colab": {
          "base_uri": "https://localhost:8080/",
          "height": 409
        },
        "id": "g8oPP85uBLci",
        "outputId": "8d7c4098-8b8f-41f9-cda5-31aca2dc5197"
      },
      "outputs": [
        {
          "data": {
            "image/png": "[encoded data removed]",
            "text/plain": [
              "<Figure size 1500x400 with 1 Axes>"
            ]
          },
          "metadata": {
            "image/png": {
              "height": 392,
              "width": 1242
            }
          },
          "output_type": "display_data"
        }
      ],
      "source": [
        "# Tworzenie wykresu dla procesu uczenia się modelu\n",
        "history_df = pd.DataFrame(history.history)\n",
        "plt.figure(figsize=(15, 4), facecolor=\"#b6dff2\")\n",
        "plt.title(\"Wykres procesu uczenia modelu - Strata\")\n",
        "\n",
        "# Rysowanie wykresu dla straty treningowej\n",
        "sns.lineplot(data=history_df[\"loss\"], color=\"red\", label=\"Strata treningowa\")\n",
        "sns.lineplot(data=history_df[\"val_loss\"], color=\"green\", label=\"Strata walidacyjna\")\n",
        "\n",
        "plt.ylabel(\"Strata treningowa\")\n",
        "plt.xlabel(\"Epoki\")\n",
        "\n",
        "# Dodanie legendy\n",
        "plt.legend(title=\"Legenda\", loc=\"upper right\")\n",
        "\n",
        "# Wyświetlenie wykresu\n",
        "plt.show()"
      ]
    },
    {
      "cell_type": "code",
      "execution_count": 61,
      "metadata": {
        "colab": {
          "base_uri": "https://localhost:8080/",
          "height": 549
        },
        "id": "4z4DCxuYy8iR",
        "outputId": "38e5096d-5b5f-4148-ba3a-3a4f1be57dae"
      },
      "outputs": [
        {
          "data": {
            "image/png": "[encoded data removed]",
            "text/plain": [
              "<IPython.core.display.Image object>"
            ]
          },
          "metadata": {},
          "output_type": "display_data"
        }
      ],
      "source": [
        "#generowanie midi do analizy\n",
        "\n",
        "def Malody_Generator(Note_Count):\n",
        "    seed = X_test[np.random.randint(0, len(X_test) - 1)]\n",
        "    Music = []\n",
        "    Notes_Generated = []\n",
        "\n",
        "    for i in range(Note_Count):\n",
        "        seed = seed.reshape(1, sequence_length, 1)\n",
        "        prediction = model.predict(seed, verbose=0)[0]\n",
        "        prediction = np.log(prediction) / 1.0  # diversity\n",
        "        exp_preds = np.exp(prediction)\n",
        "        prediction = exp_preds / np.sum(exp_preds)\n",
        "        index = np.argmax(prediction)\n",
        "        index_N = index / float(Length_unique_notes)\n",
        "        Notes_Generated.append(index)\n",
        "\n",
        "        # Convert generated note indices into actual note names or MIDI values\n",
        "        note_name = int_to_note.get(index, None)  # Safely get the note name using int_to_note mapping\n",
        "\n",
        "        if note_name:  # Check if a valid note name exists\n",
        "            Music.append(note_name)  # Append the note name\n",
        "        else:\n",
        "            print(f\"Invalid index {index} generated, skipping...\")\n",
        "\n",
        "        seed = np.insert(seed[0], len(seed[0]), index_N)\n",
        "        seed = seed[1:]\n",
        "\n",
        "    # Convert Music (list of notes) to melody\n",
        "    Melody = create_melody(Music)\n",
        "    Melody_midi = stream.Stream(Melody)\n",
        "\n",
        "    return Music, Melody_midi\n",
        "\n",
        "#getting the Notes and Melody created by the model\n",
        "Music_notes, Melody = Malody_Generator(100)\n",
        "show(Melody)"
      ]
    },
    {
      "cell_type": "code",
      "execution_count": 93,
      "metadata": {
        "id": "prBY5veg8WD3"
      },
      "outputs": [],
      "source": [
        "from music21 import stream, note, tempo\n",
        "\n",
        "note_duration_map = {\n",
        "    'bardzo wolne': 4,       # Cała nuta = 4 ćwierćnuty\n",
        "    'wolne': 2,        # Półnuta = 2 ćwierćnuty\n",
        "    'umiarkowane': 1,     # Ćwierćnuta = 1 ćwierćnuty\n",
        "    'szybkie': 0.5,    # Ósemka = 0.5 ćwierćnuty\n",
        "    'bardzo szybkie': 0.25 # Szesnastka = 0.25 ćwierćnuty\n",
        "}\n",
        "\n",
        "def Malody_Generator(duration_seconds, note_type='umiarkowane', bpm=60):\n",
        "    \"\"\"\n",
        "    Generowanie melodii o określonym czasie trwania i typie nuty.\n",
        "    \"\"\"\n",
        "    # Czas trwania jednej ćwierćnuty w sekundach\n",
        "    quarter_duration_seconds = 60 / bpm\n",
        "\n",
        "    # Liczba ćwierćnut w melodii\n",
        "    total_quarter_notes = duration_seconds / quarter_duration_seconds\n",
        "\n",
        "    # Czas trwania jednej nuty w ćwierćnutach\n",
        "    note_duration = note_duration_map[note_type]\n",
        "\n",
        "    # Liczba nut\n",
        "    note_count = int(total_quarter_notes / note_duration)\n",
        "\n",
        "    # Tworzenie listy nut (zapisujemy nazwę nuty oraz jej czas trwania)\n",
        "    Music = []\n",
        "    Notes_Generated = []\n",
        "\n",
        "    seed = X_test[np.random.randint(0, len(X_test) - 1)]  # Możesz to dostosować do swojego modelu\n",
        "\n",
        "    for i in range(note_count):\n",
        "        seed = seed.reshape(1, sequence_length, 1)\n",
        "        prediction = model.predict(seed, verbose=0)[0]\n",
        "        prediction = np.log(prediction) / 1.0  # Różnorodność\n",
        "        exp_preds = np.exp(prediction)\n",
        "        prediction = exp_preds / np.sum(exp_preds)\n",
        "        index = np.argmax(prediction)\n",
        "        index_N = index / float(Length_unique_notes)\n",
        "        Notes_Generated.append(index)\n",
        "\n",
        "        # Konwersja indeksu na nazwę nuty\n",
        "        note_name = int_to_note.get(index, None)\n",
        "\n",
        "        # Jeśli nuta jest nieprawidłowa, generujemy następną\n",
        "        while note_name is None or not valid_note_name(note_name):\n",
        "            index = np.random.randint(0, Length_unique_notes)  # Nowy losowy indeks\n",
        "            note_name = int_to_note.get(index, None)  # Nowa nuta\n",
        "\n",
        "        # Dodajemy poprawną nutę do listy\n",
        "        Music.append((note_name, note_duration))\n",
        "\n",
        "        seed = np.insert(seed[0], len(seed[0]), index_N)\n",
        "        seed = seed[1:]\n",
        "\n",
        "    # Tworzymy melodię używając funkcji create_melody\n",
        "    Melody = create_melody(Music)\n",
        "\n",
        "    # Tworzymy strumień MIDI\n",
        "    Melody_midi = stream.Stream(Melody)\n",
        "\n",
        "    # Dodajemy tempo na początku\n",
        "    tempo_mark = tempo.MetronomeMark(number=bpm)\n",
        "    Melody_midi.insert(0, tempo_mark)\n",
        "\n",
        "    # Debugowanie\n",
        "    total_duration = sum(n.quarterLength for n in Melody_midi.notes) * quarter_duration_seconds\n",
        "    print(f\"Total duration of melody (in seconds): {total_duration:.2f}\")\n",
        "\n",
        "    return Music, Melody_midi\n",
        "\n",
        "def valid_note_name(note_name):\n",
        "    \"\"\"\n",
        "    Sprawdza, czy wygenerowana nuta jest poprawna.\n",
        "    Możemy tutaj dodać dodatkowe sprawdzenie poprawności zapisu.\n",
        "    \"\"\"\n",
        "    try:\n",
        "        n = note.Note(note_name)  # Próba utworzenia nuty z nazwy\n",
        "        return True\n",
        "    except:\n",
        "        return False\n"
      ]
    },
    {
      "cell_type": "code",
      "execution_count": null,
      "metadata": {
        "colab": {
          "base_uri": "https://localhost:8080/",
          "height": 1000,
          "referenced_widgets": [
            "d4153167e1c54fb2b6b1318f0c03f27f",
            "8255bb9c75354e56a2718d2d7caa8c09",
            "a258edd1c8b8433286e960ef87a557b5",
            "6383ff22344b4203814bb4698629b7bb",
            "ebf8e34206264fdfb9a0cea52fae5e3c",
            "f79757a29cb744e3bb9b44b725104a7a",
            "8df53e0d30644d7fba24d109de8e5fe0",
            "cbb2b35d3d014d77901b2c83f9259304",
            "3f404b9b2aee45eabf95a201633563fb"
          ]
        },
        "id": "C1pefFT5MDib",
        "outputId": "fb581249-e68a-4fff-ca97-fba1074260a1"
      },
      "outputs": [
        {
          "data": {
            "application/vnd.jupyter.widget-view+json": {
              "model_id": "d4153167e1c54fb2b6b1318f0c03f27f",
              "version_major": 2,
              "version_minor": 0
            },
            "text/plain": [
              "IntSlider(value=20, continuous_update=False, description='Czas trwania (s):', max=60, min=1, style=SliderStyle…"
            ]
          },
          "metadata": {},
          "output_type": "display_data"
        },
        {
          "data": {
            "application/vnd.jupyter.widget-view+json": {
              "model_id": "6383ff22344b4203814bb4698629b7bb",
              "version_major": 2,
              "version_minor": 0
            },
            "text/plain": [
              "Dropdown(description='Tempo:', index=2, layout=Layout(height='30px', margin='0px 0px 0px 58px', width='220px')…"
            ]
          },
          "metadata": {},
          "output_type": "display_data"
        },
        {
          "data": {
            "application/vnd.jupyter.widget-view+json": {
              "model_id": "8df53e0d30644d7fba24d109de8e5fe0",
              "version_major": 2,
              "version_minor": 0
            },
            "text/plain": [
              "Button(button_style='success', description='Generuj Melodie', layout=Layout(height='30px', margin='10px 0px 0p…"
            ]
          },
          "metadata": {},
          "output_type": "display_data"
        },
        {
          "name": "stdout",
          "output_type": "stream",
          "text": [
            "Total duration of melody (in seconds): 36.00\n"
          ]
        },
        {
          "data": {
            "image/png": "[encoded data removed]",
            "text/plain": [
              "<IPython.core.display.Image object>"
            ]
          },
          "metadata": {},
          "output_type": "display_data"
        },
        {
          "name": "stdout",
          "output_type": "stream",
          "text": [
            "[('F3', 1), ('F3', 1), ('F3', 1), ('A5', 1), ('B-2', 1), ('F3', 1), ('F3', 1), ('F5', 1), ('F5', 1), ('F5', 1), ('F4', 1), ('F4', 1), ('G#3', 1), ('G#3', 1), ('G#3', 1), ('G#3', 1), ('G#3', 1), ('G#3', 1), ('G#3', 1), ('G#3', 1), ('G#3', 1), ('G#3', 1), ('G#3', 1), ('G#3', 1), ('G#3', 1), ('G#3', 1), ('G#3', 1), ('G#3', 1), ('G#3', 1), ('G#3', 1), ('G#3', 1), ('G#3', 1), ('G#3', 1), ('G#3', 1), ('G#3', 1), ('G#3', 1)]\n",
            "Total duration of melody (in seconds): 36.00\n"
          ]
        },
        {
          "data": {
            "image/png": "[encoded data removed]",
            "text/plain": [
              "<IPython.core.display.Image object>"
            ]
          },
          "metadata": {},
          "output_type": "display_data"
        },
        {
          "name": "stdout",
          "output_type": "stream",
          "text": [
            "[('C5', 4), ('C2', 4), ('A5', 4), ('C#2', 4), ('F#1', 4), ('E5', 4), ('G#1', 4), ('G#3', 4), ('E-5', 4)]\n",
            "Total duration of melody (in seconds): 36.00\n"
          ]
        },
        {
          "data": {
            "image/png": "[encoded data removed]",
            "text/plain": [
              "<IPython.core.display.Image object>"
            ]
          },
          "metadata": {},
          "output_type": "display_data"
        },
        {
          "name": "stdout",
          "output_type": "stream",
          "text": [
            "[('E5', 2), ('B3', 2), ('D7', 2), ('D4', 2), ('F#4', 2), ('C#5', 2), ('C#5', 2), ('A1', 2), ('C#3', 2), ('B-4', 2), ('F#4', 2), ('F#4', 2), ('C#5', 2), ('C#5', 2), ('F#4', 2), ('F5', 2), ('F#4', 2), ('F#4', 2)]\n",
            "Total duration of melody (in seconds): 36.00\n"
          ]
        },
        {
          "data": {
            "image/png": "[encoded data removed]",
            "text/plain": [
              "<IPython.core.display.Image object>"
            ]
          },
          "metadata": {},
          "output_type": "display_data"
        },
        {
          "name": "stdout",
          "output_type": "stream",
          "text": [
            "[('C5', 0.5), ('D2', 0.5), ('B4', 0.5), ('C3', 0.5), ('F#6', 0.5), ('D2', 0.5), ('B4', 0.5), ('G6', 0.5), ('E2', 0.5), ('F#6', 0.5), ('E3', 0.5), ('A3', 0.5), ('F2', 0.5), ('G#1', 0.5), ('D3', 0.5), ('B-3', 0.5), ('G#6', 0.5), ('C#6', 0.5), ('G#3', 0.5), ('A2', 0.5), ('F7', 0.5), ('G#4', 0.5), ('G#5', 0.5), ('E3', 0.5), ('C2', 0.5), ('B4', 0.5), ('G#2', 0.5), ('E2', 0.5), ('G#6', 0.5), ('F#3', 0.5), ('F#3', 0.5), ('C#4', 0.5), ('C#5', 0.5), ('C#3', 0.5), ('D4', 0.5), ('E-2', 0.5), ('F#3', 0.5), ('B-3', 0.5), ('F1', 0.5), ('A2', 0.5), ('F#4', 0.5), ('B-4', 0.5), ('B3', 0.5), ('G4', 0.5), ('B-1', 0.5), ('F5', 0.5), ('D4', 0.5), ('D6', 0.5), ('D7', 0.5), ('B-2', 0.5), ('C#2', 0.5), ('D7', 0.5), ('G4', 0.5), ('G3', 0.5), ('E6', 0.5), ('G2', 0.5), ('B-2', 0.5), ('B-1', 0.5), ('E-7', 0.5), ('C7', 0.5), ('F#2', 0.5), ('F#3', 0.5), ('B-2', 0.5), ('E3', 0.5), ('F5', 0.5), ('D4', 0.5), ('A4', 0.5), ('A2', 0.5), ('C3', 0.5), ('D3', 0.5), ('E1', 0.5), ('E6', 0.5)]\n",
            "Total duration of melody (in seconds): 36.00\n"
          ]
        },
        {
          "data": {
            "image/png": "[encoded data removed]",
            "text/plain": [
              "<IPython.core.display.Image object>"
            ]
          },
          "metadata": {},
          "output_type": "display_data"
        },
        {
          "name": "stdout",
          "output_type": "stream",
          "text": [
            "[('G#3', 0.25), ('C#4', 0.25), ('C#4', 0.25), ('C#4', 0.25), ('C#4', 0.25), ('C#4', 0.25), ('C#4', 0.25), ('C#4', 0.25), ('C#4', 0.25), ('C#4', 0.25), ('C#4', 0.25), ('C#4', 0.25), ('C#4', 0.25), ('C#4', 0.25), ('A3', 0.25), ('A3', 0.25), ('A4', 0.25), ('A4', 0.25), ('A4', 0.25), ('A4', 0.25), ('A4', 0.25), ('A4', 0.25), ('A4', 0.25), ('A4', 0.25), ('A4', 0.25), ('A4', 0.25), ('A4', 0.25), ('A4', 0.25), ('A4', 0.25), ('A4', 0.25), ('A4', 0.25), ('A4', 0.25), ('A4', 0.25), ('A4', 0.25), ('A4', 0.25), ('A4', 0.25), ('A4', 0.25), ('A4', 0.25), ('A4', 0.25), ('A4', 0.25), ('A4', 0.25), ('A4', 0.25), ('A4', 0.25), ('A4', 0.25), ('A4', 0.25), ('A4', 0.25), ('A4', 0.25), ('A4', 0.25), ('A4', 0.25), ('A4', 0.25), ('A4', 0.25), ('A4', 0.25), ('A4', 0.25), ('A4', 0.25), ('A4', 0.25), ('A4', 0.25), ('A4', 0.25), ('A4', 0.25), ('A4', 0.25), ('A4', 0.25), ('A4', 0.25), ('A4', 0.25), ('A4', 0.25), ('A4', 0.25), ('A4', 0.25), ('A4', 0.25), ('A4', 0.25), ('A4', 0.25), ('A4', 0.25), ('A4', 0.25), ('A4', 0.25), ('A4', 0.25), ('A4', 0.25), ('A4', 0.25), ('A4', 0.25), ('A4', 0.25), ('A4', 0.25), ('A4', 0.25), ('A4', 0.25), ('A4', 0.25), ('A4', 0.25), ('A4', 0.25), ('A4', 0.25), ('A4', 0.25), ('A4', 0.25), ('A4', 0.25), ('A4', 0.25), ('A4', 0.25), ('A4', 0.25), ('A4', 0.25), ('A4', 0.25), ('A4', 0.25), ('A4', 0.25), ('A4', 0.25), ('A4', 0.25), ('A4', 0.25), ('A4', 0.25), ('A4', 0.25), ('A4', 0.25), ('A4', 0.25), ('A4', 0.25), ('A4', 0.25), ('A4', 0.25), ('A4', 0.25), ('A4', 0.25), ('A4', 0.25), ('A4', 0.25), ('A4', 0.25), ('A4', 0.25), ('A4', 0.25), ('A4', 0.25), ('A4', 0.25), ('A4', 0.25), ('A4', 0.25), ('A4', 0.25), ('A4', 0.25), ('A4', 0.25), ('A4', 0.25), ('A4', 0.25), ('A4', 0.25), ('A4', 0.25), ('A4', 0.25), ('A4', 0.25), ('A4', 0.25), ('A4', 0.25), ('A4', 0.25), ('A4', 0.25), ('A4', 0.25), ('A4', 0.25), ('A4', 0.25), ('A4', 0.25), ('A4', 0.25), ('A4', 0.25), ('A4', 0.25), ('A4', 0.25), ('A4', 0.25), ('A4', 0.25), ('A4', 0.25), ('A4', 0.25), ('A4', 0.25), ('A4', 0.25), ('A4', 0.25), ('A4', 0.25), ('A4', 0.25)]\n"
          ]
        }
      ],
      "source": [
        "import ipywidgets as widgets\n",
        "from IPython.display import display, Audio\n",
        "\n",
        "output_directory = '/content/drive/My Drive/wygenerowane'\n",
        "\n",
        "# Upewnienie się, że katalog istnieje\n",
        "if not os.path.exists(output_directory):\n",
        "    os.makedirs(output_directory)\n",
        "\n",
        "# Zmienna śledząca numer pliku\n",
        "file_counter = 1\n",
        "\n",
        "# Funkcja do generowania melodii z inputu użytkownika\n",
        "def generate_melody(duration_seconds, note_type):\n",
        "    global file_counter\n",
        "\n",
        "    Music_notes, Melody = Malody_Generator(duration_seconds=duration_seconds, note_type=note_type)\n",
        "\n",
        "    # Generowanie nazwy pliku\n",
        "    output_filename = f'{file_counter}.mid'\n",
        "    output_filepath = os.path.join(output_directory, output_filename)\n",
        "\n",
        "    # Zapisz plik MIDI\n",
        "    Melody.write('midi', output_filepath)\n",
        "\n",
        "    # Zwiększ numerację pliku\n",
        "    file_counter += 1\n",
        "\n",
        "    # Opcjonalnie: Wyświetlenie wygenerowanej melodii\n",
        "    show(Melody)\n",
        "\n",
        "    # Możesz dodać tutaj również informacje o nutach:\n",
        "    print(Music_notes)\n",
        "\n",
        "# Ustawienia interfejsu\n",
        "duration_slider = widgets.IntSlider(\n",
        "    value=20,  # Domyślny czas trwania\n",
        "    min=1,\n",
        "    max=60,\n",
        "    step=1,\n",
        "    description='Duration (s):',\n",
        "    continuous_update=False,\n",
        "    style={'description_width': 'initial', 'width': '400px'},  # Ustawiamy szerokość suwaka\n",
        ")\n",
        "\n",
        "note_dropdown = widgets.Dropdown(\n",
        "    options=['very slow', 'slow', 'moderate', 'fast', 'very fast'],\n",
        "    value='moderate',\n",
        "    description='Tempo:',\n",
        "    disabled=False,\n",
        "    style={'description_width': 'initial', 'width': '220px'},  # Ustawiamy szerokość rozwijanej listy\n",
        "    layout=widgets.Layout(margin='0px 0px 0px 58px', width='220px', height='30px')  # Przesunięcie w lewo, aby wyrównać\n",
        ")\n",
        "\n",
        "# Funkcja uruchamiająca generowanie melodii na podstawie wejścia\n",
        "def on_button_click(b):\n",
        "    duration_seconds = duration_slider.value\n",
        "    note_type = note_dropdown.value\n",
        "    generate_melody(duration_seconds, note_type)\n",
        "\n",
        "# Przycisk generujący melodię \n",
        "generate_button = widgets.Button(\n",
        "    description=\"Generate Melody\",\n",
        "    button_style='success',  # Kolor tła przycisku\n",
        "    layout=widgets.Layout(margin='10px 0px 0px 58px', width='180px', height='30px'),  # Ustawiamy rozmiar przycisku\n",
        ")\n",
        "generate_button.on_click(on_button_click)\n",
        "\n",
        "# Dodajemy style CSS do widgetów\n",
        "generate_button.style.button_color = 'rgb(11, 45, 92)'  # Kolor tła przycisku 188, 225, 230\n",
        "\n",
        "# Wyświetlanie interfejsu\n",
        "display(duration_slider, note_dropdown, generate_button)"
      ]
    }
  ],
  "metadata": {
    "colab": {
      "provenance": []
    },
    "kernelspec": {
      "display_name": "Python 3",
      "name": "python3"
    },
    "language_info": {
      "name": "python"
    },
    "widgets": {
      "application/vnd.jupyter.widget-state+json": {
        "3f404b9b2aee45eabf95a201633563fb": {
          "model_module": "@jupyter-widgets/controls",
          "model_module_version": "1.5.0",
          "model_name": "ButtonStyleModel",
          "state": {
            "_model_module": "@jupyter-widgets/controls",
            "_model_module_version": "1.5.0",
            "_model_name": "ButtonStyleModel",
            "_view_count": null,
            "_view_module": "@jupyter-widgets/base",
            "_view_module_version": "1.2.0",
            "_view_name": "StyleView",
            "button_color": "rgb(11, 45, 92)",
            "font_weight": ""
          }
        },
        "6383ff22344b4203814bb4698629b7bb": {
          "model_module": "@jupyter-widgets/controls",
          "model_module_version": "1.5.0",
          "model_name": "DropdownModel",
          "state": {
            "_dom_classes": [],
            "_model_module": "@jupyter-widgets/controls",
            "_model_module_version": "1.5.0",
            "_model_name": "DropdownModel",
            "_options_labels": [
              "bardzo wolne",
              "wolne",
              "umiarkowane",
              "szybkie",
              "bardzo szybkie"
            ],
            "_view_count": null,
            "_view_module": "@jupyter-widgets/controls",
            "_view_module_version": "1.5.0",
            "_view_name": "DropdownView",
            "description": "Tempo:",
            "description_tooltip": null,
            "disabled": false,
            "index": 4,
            "layout": "IPY_MODEL_ebf8e34206264fdfb9a0cea52fae5e3c",
            "style": "IPY_MODEL_f79757a29cb744e3bb9b44b725104a7a"
          }
        },
        "8255bb9c75354e56a2718d2d7caa8c09": {
          "model_module": "@jupyter-widgets/base",
          "model_module_version": "1.2.0",
          "model_name": "LayoutModel",
          "state": {
            "_model_module": "@jupyter-widgets/base",
            "_model_module_version": "1.2.0",
            "_model_name": "LayoutModel",
            "_view_count": null,
            "_view_module": "@jupyter-widgets/base",
            "_view_module_version": "1.2.0",
            "_view_name": "LayoutView",
            "align_content": null,
            "align_items": null,
            "align_self": null,
            "border": null,
            "bottom": null,
            "display": null,
            "flex": null,
            "flex_flow": null,
            "grid_area": null,
            "grid_auto_columns": null,
            "grid_auto_flow": null,
            "grid_auto_rows": null,
            "grid_column": null,
            "grid_gap": null,
            "grid_row": null,
            "grid_template_areas": null,
            "grid_template_columns": null,
            "grid_template_rows": null,
            "height": null,
            "justify_content": null,
            "justify_items": null,
            "left": null,
            "margin": null,
            "max_height": null,
            "max_width": null,
            "min_height": null,
            "min_width": null,
            "object_fit": null,
            "object_position": null,
            "order": null,
            "overflow": null,
            "overflow_x": null,
            "overflow_y": null,
            "padding": null,
            "right": null,
            "top": null,
            "visibility": null,
            "width": null
          }
        },
        "8df53e0d30644d7fba24d109de8e5fe0": {
          "model_module": "@jupyter-widgets/controls",
          "model_module_version": "1.5.0",
          "model_name": "ButtonModel",
          "state": {
            "_dom_classes": [],
            "_model_module": "@jupyter-widgets/controls",
            "_model_module_version": "1.5.0",
            "_model_name": "ButtonModel",
            "_view_count": null,
            "_view_module": "@jupyter-widgets/controls",
            "_view_module_version": "1.5.0",
            "_view_name": "ButtonView",
            "button_style": "success",
            "description": "Generuj Melodie",
            "disabled": false,
            "icon": "",
            "layout": "IPY_MODEL_cbb2b35d3d014d77901b2c83f9259304",
            "style": "IPY_MODEL_3f404b9b2aee45eabf95a201633563fb",
            "tooltip": ""
          }
        },
        "a258edd1c8b8433286e960ef87a557b5": {
          "model_module": "@jupyter-widgets/controls",
          "model_module_version": "1.5.0",
          "model_name": "SliderStyleModel",
          "state": {
            "_model_module": "@jupyter-widgets/controls",
            "_model_module_version": "1.5.0",
            "_model_name": "SliderStyleModel",
            "_view_count": null,
            "_view_module": "@jupyter-widgets/base",
            "_view_module_version": "1.2.0",
            "_view_name": "StyleView",
            "description_width": "initial",
            "handle_color": null
          }
        },
        "cbb2b35d3d014d77901b2c83f9259304": {
          "model_module": "@jupyter-widgets/base",
          "model_module_version": "1.2.0",
          "model_name": "LayoutModel",
          "state": {
            "_model_module": "@jupyter-widgets/base",
            "_model_module_version": "1.2.0",
            "_model_name": "LayoutModel",
            "_view_count": null,
            "_view_module": "@jupyter-widgets/base",
            "_view_module_version": "1.2.0",
            "_view_name": "LayoutView",
            "align_content": null,
            "align_items": null,
            "align_self": null,
            "border": null,
            "bottom": null,
            "display": null,
            "flex": null,
            "flex_flow": null,
            "grid_area": null,
            "grid_auto_columns": null,
            "grid_auto_flow": null,
            "grid_auto_rows": null,
            "grid_column": null,
            "grid_gap": null,
            "grid_row": null,
            "grid_template_areas": null,
            "grid_template_columns": null,
            "grid_template_rows": null,
            "height": "30px",
            "justify_content": null,
            "justify_items": null,
            "left": null,
            "margin": "10px 0px 0px 58px",
            "max_height": null,
            "max_width": null,
            "min_height": null,
            "min_width": null,
            "object_fit": null,
            "object_position": null,
            "order": null,
            "overflow": null,
            "overflow_x": null,
            "overflow_y": null,
            "padding": null,
            "right": null,
            "top": null,
            "visibility": null,
            "width": "180px"
          }
        },
        "d4153167e1c54fb2b6b1318f0c03f27f": {
          "model_module": "@jupyter-widgets/controls",
          "model_module_version": "1.5.0",
          "model_name": "IntSliderModel",
          "state": {
            "_dom_classes": [],
            "_model_module": "@jupyter-widgets/controls",
            "_model_module_version": "1.5.0",
            "_model_name": "IntSliderModel",
            "_view_count": null,
            "_view_module": "@jupyter-widgets/controls",
            "_view_module_version": "1.5.0",
            "_view_name": "IntSliderView",
            "continuous_update": false,
            "description": "Czas trwania (s):",
            "description_tooltip": null,
            "disabled": false,
            "layout": "IPY_MODEL_8255bb9c75354e56a2718d2d7caa8c09",
            "max": 60,
            "min": 1,
            "orientation": "horizontal",
            "readout": true,
            "readout_format": "d",
            "step": 1,
            "style": "IPY_MODEL_a258edd1c8b8433286e960ef87a557b5",
            "value": 36
          }
        },
        "ebf8e34206264fdfb9a0cea52fae5e3c": {
          "model_module": "@jupyter-widgets/base",
          "model_module_version": "1.2.0",
          "model_name": "LayoutModel",
          "state": {
            "_model_module": "@jupyter-widgets/base",
            "_model_module_version": "1.2.0",
            "_model_name": "LayoutModel",
            "_view_count": null,
            "_view_module": "@jupyter-widgets/base",
            "_view_module_version": "1.2.0",
            "_view_name": "LayoutView",
            "align_content": null,
            "align_items": null,
            "align_self": null,
            "border": null,
            "bottom": null,
            "display": null,
            "flex": null,
            "flex_flow": null,
            "grid_area": null,
            "grid_auto_columns": null,
            "grid_auto_flow": null,
            "grid_auto_rows": null,
            "grid_column": null,
            "grid_gap": null,
            "grid_row": null,
            "grid_template_areas": null,
            "grid_template_columns": null,
            "grid_template_rows": null,
            "height": "30px",
            "justify_content": null,
            "justify_items": null,
            "left": null,
            "margin": "0px 0px 0px 58px",
            "max_height": null,
            "max_width": null,
            "min_height": null,
            "min_width": null,
            "object_fit": null,
            "object_position": null,
            "order": null,
            "overflow": null,
            "overflow_x": null,
            "overflow_y": null,
            "padding": null,
            "right": null,
            "top": null,
            "visibility": null,
            "width": "220px"
          }
        },
        "f79757a29cb744e3bb9b44b725104a7a": {
          "model_module": "@jupyter-widgets/controls",
          "model_module_version": "1.5.0",
          "model_name": "DescriptionStyleModel",
          "state": {
            "_model_module": "@jupyter-widgets/controls",
            "_model_module_version": "1.5.0",
            "_model_name": "DescriptionStyleModel",
            "_view_count": null,
            "_view_module": "@jupyter-widgets/base",
            "_view_module_version": "1.2.0",
            "_view_name": "StyleView",
            "description_width": "initial"
          }
        }
      }
    }
  },
  "nbformat": 4,
  "nbformat_minor": 0
}
